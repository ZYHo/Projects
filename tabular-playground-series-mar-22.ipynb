{
 "cells": [
  {
   "cell_type": "markdown",
   "id": "42683164",
   "metadata": {
    "papermill": {
     "duration": 0.036423,
     "end_time": "2022-03-22T06:23:32.497354",
     "exception": false,
     "start_time": "2022-03-22T06:23:32.460931",
     "status": "completed"
    },
    "tags": []
   },
   "source": [
    "# TABULAR PLAYGROUND SERIES (MARCH 2022)"
   ]
  },
  {
   "cell_type": "markdown",
   "id": "5e348933",
   "metadata": {
    "papermill": {
     "duration": 0.034507,
     "end_time": "2022-03-22T06:23:32.567568",
     "exception": false,
     "start_time": "2022-03-22T06:23:32.533061",
     "status": "completed"
    },
    "tags": []
   },
   "source": [
    "## OBJECTIVE"
   ]
  },
  {
   "cell_type": "markdown",
   "id": "4eaa6049",
   "metadata": {
    "papermill": {
     "duration": 0.034639,
     "end_time": "2022-03-22T06:23:32.637210",
     "exception": false,
     "start_time": "2022-03-22T06:23:32.602571",
     "status": "completed"
    },
    "tags": []
   },
   "source": [
    "The objective of this notebook is to forecast the twelve-hours of traffic flow in a major U.S. metropolitan area, based on the data provided for the Tabular Playground Series for March 2022. The dependent variable in this study refers to the congestion of the traffic, and is a numeric variable.\n",
    "\n",
    "Hence, we will be using linear regression in this exercise."
   ]
  },
  {
   "cell_type": "markdown",
   "id": "cfe99dfe",
   "metadata": {
    "papermill": {
     "duration": 0.034416,
     "end_time": "2022-03-22T06:23:32.708436",
     "exception": false,
     "start_time": "2022-03-22T06:23:32.674020",
     "status": "completed"
    },
    "tags": []
   },
   "source": [
    "### Step 1: Import Library"
   ]
  },
  {
   "cell_type": "code",
   "execution_count": 1,
   "id": "4caf471d",
   "metadata": {
    "_cell_guid": "b1076dfc-b9ad-4769-8c92-a6c4dae69d19",
    "_uuid": "8f2839f25d086af736a60e9eeb907d3b93b6e0e5",
    "execution": {
     "iopub.execute_input": "2022-03-22T06:23:32.785463Z",
     "iopub.status.busy": "2022-03-22T06:23:32.783641Z",
     "iopub.status.idle": "2022-03-22T06:23:33.874810Z",
     "shell.execute_reply": "2022-03-22T06:23:33.873724Z",
     "shell.execute_reply.started": "2022-03-22T02:06:20.263288Z"
    },
    "papermill": {
     "duration": 1.130959,
     "end_time": "2022-03-22T06:23:33.875041",
     "exception": false,
     "start_time": "2022-03-22T06:23:32.744082",
     "status": "completed"
    },
    "tags": []
   },
   "outputs": [
    {
     "name": "stdout",
     "output_type": "stream",
     "text": [
      "/kaggle/input/tabular-playground-series-mar-2022/sample_submission.csv\n",
      "/kaggle/input/tabular-playground-series-mar-2022/train.csv\n",
      "/kaggle/input/tabular-playground-series-mar-2022/test.csv\n"
     ]
    }
   ],
   "source": [
    "import numpy as np \n",
    "import pandas as pd \n",
    "import matplotlib.pyplot as plt\n",
    "import seaborn as sns\n",
    "\n",
    "import os\n",
    "for dirname, _, filenames in os.walk('/kaggle/input'):\n",
    "    for filename in filenames:\n",
    "        print(os.path.join(dirname, filename))"
   ]
  },
  {
   "cell_type": "markdown",
   "id": "5323564b",
   "metadata": {
    "papermill": {
     "duration": 0.035063,
     "end_time": "2022-03-22T06:23:33.947520",
     "exception": false,
     "start_time": "2022-03-22T06:23:33.912457",
     "status": "completed"
    },
    "tags": []
   },
   "source": [
    "### Step 2: Import Data "
   ]
  },
  {
   "cell_type": "code",
   "execution_count": 2,
   "id": "5ccd9fa3",
   "metadata": {
    "execution": {
     "iopub.execute_input": "2022-03-22T06:23:34.023451Z",
     "iopub.status.busy": "2022-03-22T06:23:34.022461Z",
     "iopub.status.idle": "2022-03-22T06:23:34.843681Z",
     "shell.execute_reply": "2022-03-22T06:23:34.842925Z",
     "shell.execute_reply.started": "2022-03-22T02:06:21.241127Z"
    },
    "papermill": {
     "duration": 0.860991,
     "end_time": "2022-03-22T06:23:34.843830",
     "exception": false,
     "start_time": "2022-03-22T06:23:33.982839",
     "status": "completed"
    },
    "tags": []
   },
   "outputs": [],
   "source": [
    "Train = pd.read_csv('/kaggle/input/tabular-playground-series-mar-2022/train.csv')\n",
    "Test = pd.read_csv('/kaggle/input/tabular-playground-series-mar-2022/test.csv')"
   ]
  },
  {
   "cell_type": "markdown",
   "id": "64f7cb7c",
   "metadata": {
    "papermill": {
     "duration": 0.038113,
     "end_time": "2022-03-22T06:23:34.919207",
     "exception": false,
     "start_time": "2022-03-22T06:23:34.881094",
     "status": "completed"
    },
    "tags": []
   },
   "source": [
    "### Step 3: Preliminary Data Visualisation & EDA"
   ]
  },
  {
   "cell_type": "markdown",
   "id": "0a261660",
   "metadata": {
    "execution": {
     "iopub.execute_input": "2022-03-03T10:55:13.246516Z",
     "iopub.status.busy": "2022-03-03T10:55:13.246217Z",
     "iopub.status.idle": "2022-03-03T10:55:13.25301Z",
     "shell.execute_reply": "2022-03-03T10:55:13.252019Z",
     "shell.execute_reply.started": "2022-03-03T10:55:13.246483Z"
    },
    "papermill": {
     "duration": 0.035399,
     "end_time": "2022-03-22T06:23:34.990039",
     "exception": false,
     "start_time": "2022-03-22T06:23:34.954640",
     "status": "completed"
    },
    "tags": []
   },
   "source": [
    "Taking a look at the train data set, we find 4 possible explanatory variables that might affect our response variable (congestion):\n",
    "1.     time\n",
    "2.     x\n",
    "3.     y\n",
    "4.     direction\n",
    "\n",
    "We also checked to make sure no missing variables in both our train and test dataset, and find out the data types of our train data"
   ]
  },
  {
   "cell_type": "code",
   "execution_count": 3,
   "id": "6ba6ba9b",
   "metadata": {
    "execution": {
     "iopub.execute_input": "2022-03-22T06:23:35.074605Z",
     "iopub.status.busy": "2022-03-22T06:23:35.073918Z",
     "iopub.status.idle": "2022-03-22T06:23:35.087651Z",
     "shell.execute_reply": "2022-03-22T06:23:35.088224Z",
     "shell.execute_reply.started": "2022-03-22T02:06:22.181115Z"
    },
    "papermill": {
     "duration": 0.061021,
     "end_time": "2022-03-22T06:23:35.088407",
     "exception": false,
     "start_time": "2022-03-22T06:23:35.027386",
     "status": "completed"
    },
    "tags": []
   },
   "outputs": [
    {
     "data": {
      "text/html": [
       "<div>\n",
       "<style scoped>\n",
       "    .dataframe tbody tr th:only-of-type {\n",
       "        vertical-align: middle;\n",
       "    }\n",
       "\n",
       "    .dataframe tbody tr th {\n",
       "        vertical-align: top;\n",
       "    }\n",
       "\n",
       "    .dataframe thead th {\n",
       "        text-align: right;\n",
       "    }\n",
       "</style>\n",
       "<table border=\"1\" class=\"dataframe\">\n",
       "  <thead>\n",
       "    <tr style=\"text-align: right;\">\n",
       "      <th></th>\n",
       "      <th>row_id</th>\n",
       "      <th>time</th>\n",
       "      <th>x</th>\n",
       "      <th>y</th>\n",
       "      <th>direction</th>\n",
       "      <th>congestion</th>\n",
       "    </tr>\n",
       "  </thead>\n",
       "  <tbody>\n",
       "    <tr>\n",
       "      <th>0</th>\n",
       "      <td>0</td>\n",
       "      <td>1991-04-01 00:00:00</td>\n",
       "      <td>0</td>\n",
       "      <td>0</td>\n",
       "      <td>EB</td>\n",
       "      <td>70</td>\n",
       "    </tr>\n",
       "    <tr>\n",
       "      <th>1</th>\n",
       "      <td>1</td>\n",
       "      <td>1991-04-01 00:00:00</td>\n",
       "      <td>0</td>\n",
       "      <td>0</td>\n",
       "      <td>NB</td>\n",
       "      <td>49</td>\n",
       "    </tr>\n",
       "    <tr>\n",
       "      <th>2</th>\n",
       "      <td>2</td>\n",
       "      <td>1991-04-01 00:00:00</td>\n",
       "      <td>0</td>\n",
       "      <td>0</td>\n",
       "      <td>SB</td>\n",
       "      <td>24</td>\n",
       "    </tr>\n",
       "    <tr>\n",
       "      <th>3</th>\n",
       "      <td>3</td>\n",
       "      <td>1991-04-01 00:00:00</td>\n",
       "      <td>0</td>\n",
       "      <td>1</td>\n",
       "      <td>EB</td>\n",
       "      <td>18</td>\n",
       "    </tr>\n",
       "    <tr>\n",
       "      <th>4</th>\n",
       "      <td>4</td>\n",
       "      <td>1991-04-01 00:00:00</td>\n",
       "      <td>0</td>\n",
       "      <td>1</td>\n",
       "      <td>NB</td>\n",
       "      <td>60</td>\n",
       "    </tr>\n",
       "  </tbody>\n",
       "</table>\n",
       "</div>"
      ],
      "text/plain": [
       "   row_id                 time  x  y direction  congestion\n",
       "0       0  1991-04-01 00:00:00  0  0        EB          70\n",
       "1       1  1991-04-01 00:00:00  0  0        NB          49\n",
       "2       2  1991-04-01 00:00:00  0  0        SB          24\n",
       "3       3  1991-04-01 00:00:00  0  1        EB          18\n",
       "4       4  1991-04-01 00:00:00  0  1        NB          60"
      ]
     },
     "execution_count": 3,
     "metadata": {},
     "output_type": "execute_result"
    }
   ],
   "source": [
    "Train.head()"
   ]
  },
  {
   "cell_type": "code",
   "execution_count": 4,
   "id": "7eb92d4a",
   "metadata": {
    "execution": {
     "iopub.execute_input": "2022-03-22T06:23:35.165095Z",
     "iopub.status.busy": "2022-03-22T06:23:35.164415Z",
     "iopub.status.idle": "2022-03-22T06:23:35.361231Z",
     "shell.execute_reply": "2022-03-22T06:23:35.361769Z",
     "shell.execute_reply.started": "2022-03-22T02:06:22.202354Z"
    },
    "papermill": {
     "duration": 0.237208,
     "end_time": "2022-03-22T06:23:35.361962",
     "exception": false,
     "start_time": "2022-03-22T06:23:35.124754",
     "status": "completed"
    },
    "tags": []
   },
   "outputs": [
    {
     "name": "stdout",
     "output_type": "stream",
     "text": [
      "row_id        0\n",
      "time          0\n",
      "x             0\n",
      "y             0\n",
      "direction     0\n",
      "congestion    0\n",
      "dtype: int64 row_id       0\n",
      "time         0\n",
      "x            0\n",
      "y            0\n",
      "direction    0\n",
      "dtype: int64\n"
     ]
    }
   ],
   "source": [
    "print(Train.isnull().sum(),Test.isnull().sum())"
   ]
  },
  {
   "cell_type": "markdown",
   "id": "098db178",
   "metadata": {
    "papermill": {
     "duration": 0.035869,
     "end_time": "2022-03-22T06:23:35.434237",
     "exception": false,
     "start_time": "2022-03-22T06:23:35.398368",
     "status": "completed"
    },
    "tags": []
   },
   "source": [
    "There appears to be no missing values in our variables. Lets look at the types of data in our dataset. "
   ]
  },
  {
   "cell_type": "code",
   "execution_count": 5,
   "id": "6a1dc0a0",
   "metadata": {
    "execution": {
     "iopub.execute_input": "2022-03-22T06:23:35.510586Z",
     "iopub.status.busy": "2022-03-22T06:23:35.509916Z",
     "iopub.status.idle": "2022-03-22T06:23:35.515867Z",
     "shell.execute_reply": "2022-03-22T06:23:35.516470Z",
     "shell.execute_reply.started": "2022-03-22T02:06:22.397608Z"
    },
    "papermill": {
     "duration": 0.045616,
     "end_time": "2022-03-22T06:23:35.516630",
     "exception": false,
     "start_time": "2022-03-22T06:23:35.471014",
     "status": "completed"
    },
    "tags": []
   },
   "outputs": [
    {
     "data": {
      "text/plain": [
       "row_id         int64\n",
       "time          object\n",
       "x              int64\n",
       "y              int64\n",
       "direction     object\n",
       "congestion     int64\n",
       "dtype: object"
      ]
     },
     "execution_count": 5,
     "metadata": {},
     "output_type": "execute_result"
    }
   ],
   "source": [
    "Train.dtypes"
   ]
  },
  {
   "cell_type": "markdown",
   "id": "ca1e0323",
   "metadata": {
    "papermill": {
     "duration": 0.0365,
     "end_time": "2022-03-22T06:23:35.589926",
     "exception": false,
     "start_time": "2022-03-22T06:23:35.553426",
     "status": "completed"
    },
    "tags": []
   },
   "source": [
    "We find that time is an 'object' variable, which we will have to convert to data time object. We then extract from the data information on whether the day falls on a weekend or weekday, to take into account possibility of it affecting the congestion. Next, we extract out the time of the day (in 20 mins time block) and store it in the column name \"time-block\". We also create a new column to combine the x and y coordinates and name it \"coord\". "
   ]
  },
  {
   "cell_type": "code",
   "execution_count": 6,
   "id": "dac27a41",
   "metadata": {
    "execution": {
     "iopub.execute_input": "2022-03-22T06:23:35.666512Z",
     "iopub.status.busy": "2022-03-22T06:23:35.665767Z",
     "iopub.status.idle": "2022-03-22T06:23:40.256299Z",
     "shell.execute_reply": "2022-03-22T06:23:40.257800Z",
     "shell.execute_reply.started": "2022-03-22T02:06:22.408105Z"
    },
    "papermill": {
     "duration": 4.63182,
     "end_time": "2022-03-22T06:23:40.258269",
     "exception": false,
     "start_time": "2022-03-22T06:23:35.626449",
     "status": "completed"
    },
    "tags": []
   },
   "outputs": [
    {
     "name": "stdout",
     "output_type": "stream",
     "text": [
      "<class 'pandas.core.frame.DataFrame'>\n",
      "RangeIndex: 848835 entries, 0 to 848834\n",
      "Data columns (total 11 columns):\n",
      " #   Column      Non-Null Count   Dtype         \n",
      "---  ------      --------------   -----         \n",
      " 0   row_id      848835 non-null  int64         \n",
      " 1   time        848835 non-null  datetime64[ns]\n",
      " 2   x           848835 non-null  int64         \n",
      " 3   y           848835 non-null  int64         \n",
      " 4   direction   848835 non-null  object        \n",
      " 5   congestion  848835 non-null  int64         \n",
      " 6   day         848835 non-null  int64         \n",
      " 7   hour        848835 non-null  int64         \n",
      " 8   weekday     848835 non-null  int64         \n",
      " 9   time-block  848835 non-null  object        \n",
      " 10  coord       848835 non-null  object        \n",
      "dtypes: datetime64[ns](1), int64(7), object(3)\n",
      "memory usage: 71.2+ MB\n"
     ]
    }
   ],
   "source": [
    "Train['time'] = pd.to_datetime(Train['time'])\n",
    "Train['day'] = pd.to_datetime(Train['time']).dt.dayofweek\n",
    "Train['hour'] = Train.time.dt.hour\n",
    "Train['weekday'] = np.where(Train['day'] < 5,0,1)\n",
    "Train['time-block'] = Train['time'].dt.time\n",
    "Train['time-block'] = Train['time-block'].astype('str')\n",
    "Train['coord'] = Train['x'].astype(str) + ', ' + Train['y'].astype(str)\n",
    "Train['coord'] = Train['coord'].astype(object)\n",
    "Train.info()"
   ]
  },
  {
   "cell_type": "markdown",
   "id": "cfc0e9f8",
   "metadata": {
    "papermill": {
     "duration": 0.03734,
     "end_time": "2022-03-22T06:23:40.333700",
     "exception": false,
     "start_time": "2022-03-22T06:23:40.296360",
     "status": "completed"
    },
    "tags": []
   },
   "source": [
    "We then visualize our data using a few graphs:\n",
    "1. Histogram of our response variable (congestion)\n",
    "2. Plotting histogram of congestion against time(measured by hour) segmented by weekdays and weekends to see the effect of weekend on the congestion\n",
    "3. Plotting histogram of congestion "
   ]
  },
  {
   "cell_type": "code",
   "execution_count": 7,
   "id": "988f0f08",
   "metadata": {
    "execution": {
     "iopub.execute_input": "2022-03-22T06:23:40.412782Z",
     "iopub.status.busy": "2022-03-22T06:23:40.412126Z",
     "iopub.status.idle": "2022-03-22T06:23:40.826762Z",
     "shell.execute_reply": "2022-03-22T06:23:40.826235Z",
     "shell.execute_reply.started": "2022-03-22T02:06:27.053124Z"
    },
    "papermill": {
     "duration": 0.455751,
     "end_time": "2022-03-22T06:23:40.826905",
     "exception": false,
     "start_time": "2022-03-22T06:23:40.371154",
     "status": "completed"
    },
    "tags": []
   },
   "outputs": [
    {
     "data": {
      "text/plain": [
       "array([[<AxesSubplot:title={'center':'congestion'}>]], dtype=object)"
      ]
     },
     "execution_count": 7,
     "metadata": {},
     "output_type": "execute_result"
    },
    {
     "data": {
      "image/png": "[encoded data removed]",
      "text/plain": [
       "<Figure size 432x288 with 1 Axes>"
      ]
     },
     "metadata": {
      "needs_background": "light"
     },
     "output_type": "display_data"
    }
   ],
   "source": [
    "Train.hist(column = 'congestion', bins = 20)"
   ]
  },
  {
   "cell_type": "code",
   "execution_count": 8,
   "id": "df5d7716",
   "metadata": {
    "execution": {
     "iopub.execute_input": "2022-03-22T06:23:40.913028Z",
     "iopub.status.busy": "2022-03-22T06:23:40.912366Z",
     "iopub.status.idle": "2022-03-22T06:23:52.136650Z",
     "shell.execute_reply": "2022-03-22T06:23:52.137547Z",
     "shell.execute_reply.started": "2022-03-22T02:06:27.452524Z"
    },
    "papermill": {
     "duration": 11.270378,
     "end_time": "2022-03-22T06:23:52.137851",
     "exception": false,
     "start_time": "2022-03-22T06:23:40.867473",
     "status": "completed"
    },
    "tags": []
   },
   "outputs": [
    {
     "data": {
      "image/png": "[encoded data removed]",
      "text/plain": [
       "<Figure size 1512x864 with 24 Axes>"
      ]
     },
     "metadata": {
      "needs_background": "light"
     },
     "output_type": "display_data"
    },
    {
     "name": "stdout",
     "output_type": "stream",
     "text": [
      "Note that 0 denotes a weekday and 1 denotes a weekend. From the graph, it appears that the distribution of congestion does not appear to differ much over the weekday and weekend.\n"
     ]
    }
   ],
   "source": [
    "bins = np.linspace(Train.congestion.min(), Train.congestion.max(), 20)\n",
    "g = sns.FacetGrid(Train, col = \"hour\", hue=\"weekday\", palette = \"Set1\", col_wrap = 7)\n",
    "g.map(plt.hist, 'congestion', bins = bins, ec = \"k\")\n",
    "\n",
    "g.axes[-1].legend()\n",
    "plt.show()\n",
    "print(\"Note that 0 denotes a weekday and 1 denotes a weekend. From the graph, it appears that the distribution of congestion does not appear to differ much over the weekday and weekend.\")"
   ]
  },
  {
   "cell_type": "code",
   "execution_count": 9,
   "id": "f8be314d",
   "metadata": {
    "execution": {
     "iopub.execute_input": "2022-03-22T06:23:52.246666Z",
     "iopub.status.busy": "2022-03-22T06:23:52.245925Z",
     "iopub.status.idle": "2022-03-22T06:24:00.866950Z",
     "shell.execute_reply": "2022-03-22T06:24:00.866295Z",
     "shell.execute_reply.started": "2022-03-22T02:06:38.557008Z"
    },
    "papermill": {
     "duration": 8.679866,
     "end_time": "2022-03-22T06:24:00.867131",
     "exception": false,
     "start_time": "2022-03-22T06:23:52.187265",
     "status": "completed"
    },
    "tags": []
   },
   "outputs": [
    {
     "data": {
      "image/png": "[encoded data removed]",
      "text/plain": [
       "<Figure size 864x432 with 8 Axes>"
      ]
     },
     "metadata": {
      "needs_background": "light"
     },
     "output_type": "display_data"
    }
   ],
   "source": [
    "bins = np.linspace(Train.congestion.min(), Train.congestion.max(), 20)\n",
    "g = sns.FacetGrid(Train, col = \"direction\", palette = \"Set1\", col_wrap = 4)\n",
    "g.map(plt.hist, 'congestion', bins = bins, ec = \"k\")\n",
    "\n",
    "g.axes[-1].legend()\n",
    "plt.show()"
   ]
  },
  {
   "cell_type": "code",
   "execution_count": 10,
   "id": "643c3091",
   "metadata": {
    "execution": {
     "iopub.execute_input": "2022-03-22T06:24:00.958658Z",
     "iopub.status.busy": "2022-03-22T06:24:00.957927Z",
     "iopub.status.idle": "2022-03-22T06:24:10.972776Z",
     "shell.execute_reply": "2022-03-22T06:24:10.972163Z",
     "shell.execute_reply.started": "2022-03-22T02:06:47.015648Z"
    },
    "papermill": {
     "duration": 10.064163,
     "end_time": "2022-03-22T06:24:10.972925",
     "exception": false,
     "start_time": "2022-03-22T06:24:00.908762",
     "status": "completed"
    },
    "tags": []
   },
   "outputs": [
    {
     "data": {
      "image/png": "[encoded data removed]",
      "text/plain": [
       "<Figure size 864x648 with 12 Axes>"
      ]
     },
     "metadata": {
      "needs_background": "light"
     },
     "output_type": "display_data"
    }
   ],
   "source": [
    "bins = np.linspace(Train.congestion.min(), Train.congestion.max(), 20)\n",
    "g = sns.FacetGrid(Train, col = \"coord\", palette = \"Set1\", col_wrap = 4)\n",
    "g.map(plt.hist, 'congestion', bins = bins, ec = \"k\")\n",
    "\n",
    "g.axes[-1].legend()\n",
    "plt.show()"
   ]
  },
  {
   "cell_type": "markdown",
   "id": "8260240e",
   "metadata": {
    "papermill": {
     "duration": 0.042041,
     "end_time": "2022-03-22T06:24:11.058236",
     "exception": false,
     "start_time": "2022-03-22T06:24:11.016195",
     "status": "completed"
    },
    "tags": []
   },
   "source": [
    "### Step 4: Predictive Modelling"
   ]
  },
  {
   "cell_type": "markdown",
   "id": "fd9dd3b8",
   "metadata": {
    "papermill": {
     "duration": 0.043048,
     "end_time": "2022-03-22T06:24:11.143950",
     "exception": false,
     "start_time": "2022-03-22T06:24:11.100902",
     "status": "completed"
    },
    "tags": []
   },
   "source": [
    "First, let's take a look at our dataset again."
   ]
  },
  {
   "cell_type": "code",
   "execution_count": 11,
   "id": "d093d9e8",
   "metadata": {
    "execution": {
     "iopub.execute_input": "2022-03-22T06:24:11.247979Z",
     "iopub.status.busy": "2022-03-22T06:24:11.247272Z",
     "iopub.status.idle": "2022-03-22T06:24:12.127241Z",
     "shell.execute_reply": "2022-03-22T06:24:12.126576Z",
     "shell.execute_reply.started": "2022-03-22T02:06:56.827406Z"
    },
    "papermill": {
     "duration": 0.940936,
     "end_time": "2022-03-22T06:24:12.127391",
     "exception": false,
     "start_time": "2022-03-22T06:24:11.186455",
     "status": "completed"
    },
    "tags": []
   },
   "outputs": [
    {
     "data": {
      "text/html": [
       "<div>\n",
       "<style scoped>\n",
       "    .dataframe tbody tr th:only-of-type {\n",
       "        vertical-align: middle;\n",
       "    }\n",
       "\n",
       "    .dataframe tbody tr th {\n",
       "        vertical-align: top;\n",
       "    }\n",
       "\n",
       "    .dataframe thead th {\n",
       "        text-align: right;\n",
       "    }\n",
       "</style>\n",
       "<table border=\"1\" class=\"dataframe\">\n",
       "  <thead>\n",
       "    <tr style=\"text-align: right;\">\n",
       "      <th></th>\n",
       "      <th>row_id</th>\n",
       "      <th>time</th>\n",
       "      <th>x</th>\n",
       "      <th>y</th>\n",
       "      <th>direction</th>\n",
       "      <th>congestion</th>\n",
       "      <th>day</th>\n",
       "      <th>hour</th>\n",
       "      <th>weekday</th>\n",
       "      <th>time-block</th>\n",
       "      <th>coord</th>\n",
       "    </tr>\n",
       "  </thead>\n",
       "  <tbody>\n",
       "    <tr>\n",
       "      <th>0</th>\n",
       "      <td>0</td>\n",
       "      <td>1991-04-01 00:00:00</td>\n",
       "      <td>0</td>\n",
       "      <td>0</td>\n",
       "      <td>EB</td>\n",
       "      <td>70</td>\n",
       "      <td>0</td>\n",
       "      <td>0</td>\n",
       "      <td>0</td>\n",
       "      <td>00:00:00</td>\n",
       "      <td>0, 0</td>\n",
       "    </tr>\n",
       "    <tr>\n",
       "      <th>65</th>\n",
       "      <td>65</td>\n",
       "      <td>1991-04-01 00:20:00</td>\n",
       "      <td>0</td>\n",
       "      <td>0</td>\n",
       "      <td>EB</td>\n",
       "      <td>70</td>\n",
       "      <td>0</td>\n",
       "      <td>0</td>\n",
       "      <td>0</td>\n",
       "      <td>00:20:00</td>\n",
       "      <td>0, 0</td>\n",
       "    </tr>\n",
       "    <tr>\n",
       "      <th>130</th>\n",
       "      <td>130</td>\n",
       "      <td>1991-04-01 00:40:00</td>\n",
       "      <td>0</td>\n",
       "      <td>0</td>\n",
       "      <td>EB</td>\n",
       "      <td>70</td>\n",
       "      <td>0</td>\n",
       "      <td>0</td>\n",
       "      <td>0</td>\n",
       "      <td>00:40:00</td>\n",
       "      <td>0, 0</td>\n",
       "    </tr>\n",
       "    <tr>\n",
       "      <th>195</th>\n",
       "      <td>195</td>\n",
       "      <td>1991-04-01 01:00:00</td>\n",
       "      <td>0</td>\n",
       "      <td>0</td>\n",
       "      <td>EB</td>\n",
       "      <td>70</td>\n",
       "      <td>0</td>\n",
       "      <td>1</td>\n",
       "      <td>0</td>\n",
       "      <td>01:00:00</td>\n",
       "      <td>0, 0</td>\n",
       "    </tr>\n",
       "    <tr>\n",
       "      <th>260</th>\n",
       "      <td>260</td>\n",
       "      <td>1991-04-01 01:20:00</td>\n",
       "      <td>0</td>\n",
       "      <td>0</td>\n",
       "      <td>EB</td>\n",
       "      <td>70</td>\n",
       "      <td>0</td>\n",
       "      <td>1</td>\n",
       "      <td>0</td>\n",
       "      <td>01:20:00</td>\n",
       "      <td>0, 0</td>\n",
       "    </tr>\n",
       "    <tr>\n",
       "      <th>325</th>\n",
       "      <td>325</td>\n",
       "      <td>1991-04-01 01:40:00</td>\n",
       "      <td>0</td>\n",
       "      <td>0</td>\n",
       "      <td>EB</td>\n",
       "      <td>70</td>\n",
       "      <td>0</td>\n",
       "      <td>1</td>\n",
       "      <td>0</td>\n",
       "      <td>01:40:00</td>\n",
       "      <td>0, 0</td>\n",
       "    </tr>\n",
       "    <tr>\n",
       "      <th>390</th>\n",
       "      <td>390</td>\n",
       "      <td>1991-04-01 02:00:00</td>\n",
       "      <td>0</td>\n",
       "      <td>0</td>\n",
       "      <td>EB</td>\n",
       "      <td>70</td>\n",
       "      <td>0</td>\n",
       "      <td>2</td>\n",
       "      <td>0</td>\n",
       "      <td>02:00:00</td>\n",
       "      <td>0, 0</td>\n",
       "    </tr>\n",
       "    <tr>\n",
       "      <th>455</th>\n",
       "      <td>455</td>\n",
       "      <td>1991-04-01 02:20:00</td>\n",
       "      <td>0</td>\n",
       "      <td>0</td>\n",
       "      <td>EB</td>\n",
       "      <td>70</td>\n",
       "      <td>0</td>\n",
       "      <td>2</td>\n",
       "      <td>0</td>\n",
       "      <td>02:20:00</td>\n",
       "      <td>0, 0</td>\n",
       "    </tr>\n",
       "    <tr>\n",
       "      <th>520</th>\n",
       "      <td>520</td>\n",
       "      <td>1991-04-01 02:40:00</td>\n",
       "      <td>0</td>\n",
       "      <td>0</td>\n",
       "      <td>EB</td>\n",
       "      <td>70</td>\n",
       "      <td>0</td>\n",
       "      <td>2</td>\n",
       "      <td>0</td>\n",
       "      <td>02:40:00</td>\n",
       "      <td>0, 0</td>\n",
       "    </tr>\n",
       "    <tr>\n",
       "      <th>585</th>\n",
       "      <td>585</td>\n",
       "      <td>1991-04-01 03:00:00</td>\n",
       "      <td>0</td>\n",
       "      <td>0</td>\n",
       "      <td>EB</td>\n",
       "      <td>70</td>\n",
       "      <td>0</td>\n",
       "      <td>3</td>\n",
       "      <td>0</td>\n",
       "      <td>03:00:00</td>\n",
       "      <td>0, 0</td>\n",
       "    </tr>\n",
       "    <tr>\n",
       "      <th>650</th>\n",
       "      <td>650</td>\n",
       "      <td>1991-04-01 03:20:00</td>\n",
       "      <td>0</td>\n",
       "      <td>0</td>\n",
       "      <td>EB</td>\n",
       "      <td>70</td>\n",
       "      <td>0</td>\n",
       "      <td>3</td>\n",
       "      <td>0</td>\n",
       "      <td>03:20:00</td>\n",
       "      <td>0, 0</td>\n",
       "    </tr>\n",
       "    <tr>\n",
       "      <th>715</th>\n",
       "      <td>715</td>\n",
       "      <td>1991-04-01 03:40:00</td>\n",
       "      <td>0</td>\n",
       "      <td>0</td>\n",
       "      <td>EB</td>\n",
       "      <td>70</td>\n",
       "      <td>0</td>\n",
       "      <td>3</td>\n",
       "      <td>0</td>\n",
       "      <td>03:40:00</td>\n",
       "      <td>0, 0</td>\n",
       "    </tr>\n",
       "    <tr>\n",
       "      <th>780</th>\n",
       "      <td>780</td>\n",
       "      <td>1991-04-01 04:00:00</td>\n",
       "      <td>0</td>\n",
       "      <td>0</td>\n",
       "      <td>EB</td>\n",
       "      <td>70</td>\n",
       "      <td>0</td>\n",
       "      <td>4</td>\n",
       "      <td>0</td>\n",
       "      <td>04:00:00</td>\n",
       "      <td>0, 0</td>\n",
       "    </tr>\n",
       "    <tr>\n",
       "      <th>845</th>\n",
       "      <td>845</td>\n",
       "      <td>1991-04-01 04:20:00</td>\n",
       "      <td>0</td>\n",
       "      <td>0</td>\n",
       "      <td>EB</td>\n",
       "      <td>70</td>\n",
       "      <td>0</td>\n",
       "      <td>4</td>\n",
       "      <td>0</td>\n",
       "      <td>04:20:00</td>\n",
       "      <td>0, 0</td>\n",
       "    </tr>\n",
       "    <tr>\n",
       "      <th>910</th>\n",
       "      <td>910</td>\n",
       "      <td>1991-04-01 04:40:00</td>\n",
       "      <td>0</td>\n",
       "      <td>0</td>\n",
       "      <td>EB</td>\n",
       "      <td>57</td>\n",
       "      <td>0</td>\n",
       "      <td>4</td>\n",
       "      <td>0</td>\n",
       "      <td>04:40:00</td>\n",
       "      <td>0, 0</td>\n",
       "    </tr>\n",
       "    <tr>\n",
       "      <th>975</th>\n",
       "      <td>975</td>\n",
       "      <td>1991-04-01 05:00:00</td>\n",
       "      <td>0</td>\n",
       "      <td>0</td>\n",
       "      <td>EB</td>\n",
       "      <td>55</td>\n",
       "      <td>0</td>\n",
       "      <td>5</td>\n",
       "      <td>0</td>\n",
       "      <td>05:00:00</td>\n",
       "      <td>0, 0</td>\n",
       "    </tr>\n",
       "    <tr>\n",
       "      <th>1040</th>\n",
       "      <td>1040</td>\n",
       "      <td>1991-04-01 05:20:00</td>\n",
       "      <td>0</td>\n",
       "      <td>0</td>\n",
       "      <td>EB</td>\n",
       "      <td>47</td>\n",
       "      <td>0</td>\n",
       "      <td>5</td>\n",
       "      <td>0</td>\n",
       "      <td>05:20:00</td>\n",
       "      <td>0, 0</td>\n",
       "    </tr>\n",
       "    <tr>\n",
       "      <th>1105</th>\n",
       "      <td>1105</td>\n",
       "      <td>1991-04-01 05:40:00</td>\n",
       "      <td>0</td>\n",
       "      <td>0</td>\n",
       "      <td>EB</td>\n",
       "      <td>58</td>\n",
       "      <td>0</td>\n",
       "      <td>5</td>\n",
       "      <td>0</td>\n",
       "      <td>05:40:00</td>\n",
       "      <td>0, 0</td>\n",
       "    </tr>\n",
       "    <tr>\n",
       "      <th>1170</th>\n",
       "      <td>1170</td>\n",
       "      <td>1991-04-01 06:00:00</td>\n",
       "      <td>0</td>\n",
       "      <td>0</td>\n",
       "      <td>EB</td>\n",
       "      <td>47</td>\n",
       "      <td>0</td>\n",
       "      <td>6</td>\n",
       "      <td>0</td>\n",
       "      <td>06:00:00</td>\n",
       "      <td>0, 0</td>\n",
       "    </tr>\n",
       "    <tr>\n",
       "      <th>1235</th>\n",
       "      <td>1235</td>\n",
       "      <td>1991-04-01 06:20:00</td>\n",
       "      <td>0</td>\n",
       "      <td>0</td>\n",
       "      <td>EB</td>\n",
       "      <td>57</td>\n",
       "      <td>0</td>\n",
       "      <td>6</td>\n",
       "      <td>0</td>\n",
       "      <td>06:20:00</td>\n",
       "      <td>0, 0</td>\n",
       "    </tr>\n",
       "  </tbody>\n",
       "</table>\n",
       "</div>"
      ],
      "text/plain": [
       "      row_id                time  x  y direction  congestion  day  hour  \\\n",
       "0          0 1991-04-01 00:00:00  0  0        EB          70    0     0   \n",
       "65        65 1991-04-01 00:20:00  0  0        EB          70    0     0   \n",
       "130      130 1991-04-01 00:40:00  0  0        EB          70    0     0   \n",
       "195      195 1991-04-01 01:00:00  0  0        EB          70    0     1   \n",
       "260      260 1991-04-01 01:20:00  0  0        EB          70    0     1   \n",
       "325      325 1991-04-01 01:40:00  0  0        EB          70    0     1   \n",
       "390      390 1991-04-01 02:00:00  0  0        EB          70    0     2   \n",
       "455      455 1991-04-01 02:20:00  0  0        EB          70    0     2   \n",
       "520      520 1991-04-01 02:40:00  0  0        EB          70    0     2   \n",
       "585      585 1991-04-01 03:00:00  0  0        EB          70    0     3   \n",
       "650      650 1991-04-01 03:20:00  0  0        EB          70    0     3   \n",
       "715      715 1991-04-01 03:40:00  0  0        EB          70    0     3   \n",
       "780      780 1991-04-01 04:00:00  0  0        EB          70    0     4   \n",
       "845      845 1991-04-01 04:20:00  0  0        EB          70    0     4   \n",
       "910      910 1991-04-01 04:40:00  0  0        EB          57    0     4   \n",
       "975      975 1991-04-01 05:00:00  0  0        EB          55    0     5   \n",
       "1040    1040 1991-04-01 05:20:00  0  0        EB          47    0     5   \n",
       "1105    1105 1991-04-01 05:40:00  0  0        EB          58    0     5   \n",
       "1170    1170 1991-04-01 06:00:00  0  0        EB          47    0     6   \n",
       "1235    1235 1991-04-01 06:20:00  0  0        EB          57    0     6   \n",
       "\n",
       "      weekday time-block coord  \n",
       "0           0   00:00:00  0, 0  \n",
       "65          0   00:20:00  0, 0  \n",
       "130         0   00:40:00  0, 0  \n",
       "195         0   01:00:00  0, 0  \n",
       "260         0   01:20:00  0, 0  \n",
       "325         0   01:40:00  0, 0  \n",
       "390         0   02:00:00  0, 0  \n",
       "455         0   02:20:00  0, 0  \n",
       "520         0   02:40:00  0, 0  \n",
       "585         0   03:00:00  0, 0  \n",
       "650         0   03:20:00  0, 0  \n",
       "715         0   03:40:00  0, 0  \n",
       "780         0   04:00:00  0, 0  \n",
       "845         0   04:20:00  0, 0  \n",
       "910         0   04:40:00  0, 0  \n",
       "975         0   05:00:00  0, 0  \n",
       "1040        0   05:20:00  0, 0  \n",
       "1105        0   05:40:00  0, 0  \n",
       "1170        0   06:00:00  0, 0  \n",
       "1235        0   06:20:00  0, 0  "
      ]
     },
     "execution_count": 11,
     "metadata": {},
     "output_type": "execute_result"
    }
   ],
   "source": [
    "Train.sort_values(by = ['direction','coord','time'], axis=0, ascending=True, inplace=True)\n",
    "Train.head(20)"
   ]
  },
  {
   "cell_type": "code",
   "execution_count": 12,
   "id": "c51f882f",
   "metadata": {
    "execution": {
     "iopub.execute_input": "2022-03-22T06:24:12.221430Z",
     "iopub.status.busy": "2022-03-22T06:24:12.220749Z",
     "iopub.status.idle": "2022-03-22T06:24:12.941713Z",
     "shell.execute_reply": "2022-03-22T06:24:12.942290Z",
     "shell.execute_reply.started": "2022-03-22T02:06:57.683645Z"
    },
    "papermill": {
     "duration": 0.771622,
     "end_time": "2022-03-22T06:24:12.942474",
     "exception": false,
     "start_time": "2022-03-22T06:24:12.170852",
     "status": "completed"
    },
    "tags": []
   },
   "outputs": [],
   "source": [
    "Test_1 = Train.drop(['row_id','x','y','hour','weekday','time-block'], axis=1)\n",
    "Test_1 = pd.concat([Test_1,pd.get_dummies(Test_1['direction'])], axis=1) \n",
    "Test_1 = pd.concat([Test_1,pd.get_dummies(Test_1['coord'])], axis=1) \n",
    "Test_1.drop(['direction', 'coord','time'],axis = 1,inplace = True)"
   ]
  },
  {
   "cell_type": "markdown",
   "id": "d36b2190",
   "metadata": {
    "papermill": {
     "duration": 0.044301,
     "end_time": "2022-03-22T06:24:13.030592",
     "exception": false,
     "start_time": "2022-03-22T06:24:12.986291",
     "status": "completed"
    },
    "tags": []
   },
   "source": [
    "#### Check for Stationarity"
   ]
  },
  {
   "cell_type": "code",
   "execution_count": 13,
   "id": "2f6aa089",
   "metadata": {
    "execution": {
     "iopub.execute_input": "2022-03-22T06:24:13.121309Z",
     "iopub.status.busy": "2022-03-22T06:24:13.120595Z",
     "iopub.status.idle": "2022-03-22T06:24:13.123446Z",
     "shell.execute_reply": "2022-03-22T06:24:13.124061Z",
     "shell.execute_reply.started": "2022-03-22T02:06:58.384944Z"
    },
    "papermill": {
     "duration": 0.049718,
     "end_time": "2022-03-22T06:24:13.124242",
     "exception": false,
     "start_time": "2022-03-22T06:24:13.074524",
     "status": "completed"
    },
    "tags": []
   },
   "outputs": [],
   "source": [
    "# from statsmodels.tsa.vector_ar.vecm import coint_johansen\n",
    "\n",
    "\n",
    "# coint_johansen(Test_1, -1, 1).eig"
   ]
  },
  {
   "cell_type": "markdown",
   "id": "b35e5ea9",
   "metadata": {
    "papermill": {
     "duration": 0.043036,
     "end_time": "2022-03-22T06:24:13.212459",
     "exception": false,
     "start_time": "2022-03-22T06:24:13.169423",
     "status": "completed"
    },
    "tags": []
   },
   "source": [
    "Next, lets clean up our dataset to only include variables that we require:\n",
    "* Direction (direction)\n",
    "* Coordinates (Coord)\n",
    "* Time (time-block)\n",
    "* Day of the Week (day)\n",
    "\n",
    "We will also be transforming our response variable, by square-rooting the value"
   ]
  },
  {
   "cell_type": "code",
   "execution_count": 14,
   "id": "ec94107a",
   "metadata": {
    "execution": {
     "iopub.execute_input": "2022-03-22T06:24:13.303282Z",
     "iopub.status.busy": "2022-03-22T06:24:13.302620Z",
     "iopub.status.idle": "2022-03-22T06:24:13.772954Z",
     "shell.execute_reply": "2022-03-22T06:24:13.773480Z",
     "shell.execute_reply.started": "2022-03-22T02:06:58.390360Z"
    },
    "papermill": {
     "duration": 0.517633,
     "end_time": "2022-03-22T06:24:13.773679",
     "exception": false,
     "start_time": "2022-03-22T06:24:13.256046",
     "status": "completed"
    },
    "tags": []
   },
   "outputs": [
    {
     "name": "stdout",
     "output_type": "stream",
     "text": [
      "<class 'pandas.core.frame.DataFrame'>\n",
      "Int64Index: 848835 entries, 0 to 848834\n",
      "Data columns (total 5 columns):\n",
      " #   Column      Non-Null Count   Dtype \n",
      "---  ------      --------------   ----- \n",
      " 0   direction   848835 non-null  object\n",
      " 1   congestion  848835 non-null  int64 \n",
      " 2   day         848835 non-null  int64 \n",
      " 3   time-block  848835 non-null  object\n",
      " 4   coord       848835 non-null  object\n",
      "dtypes: int64(2), object(3)\n",
      "memory usage: 38.9+ MB\n"
     ]
    }
   ],
   "source": [
    "Train_1 = Train\n",
    "Train_1 = Train_1.drop(['row_id','x','y','hour','weekday','time'], axis=1)\n",
    "Train_1.info()"
   ]
  },
  {
   "cell_type": "code",
   "execution_count": 15,
   "id": "494345b1",
   "metadata": {
    "execution": {
     "iopub.execute_input": "2022-03-22T06:24:13.867872Z",
     "iopub.status.busy": "2022-03-22T06:24:13.867105Z",
     "iopub.status.idle": "2022-03-22T06:24:13.942477Z",
     "shell.execute_reply": "2022-03-22T06:24:13.942979Z",
     "shell.execute_reply.started": "2022-03-22T02:06:58.863447Z"
    },
    "papermill": {
     "duration": 0.125673,
     "end_time": "2022-03-22T06:24:13.943174",
     "exception": false,
     "start_time": "2022-03-22T06:24:13.817501",
     "status": "completed"
    },
    "tags": []
   },
   "outputs": [
    {
     "name": "stdout",
     "output_type": "stream",
     "text": [
      "    direction  day time-block coord\n",
      "0          EB    0   00:00:00  0, 0\n",
      "65         EB    0   00:20:00  0, 0\n",
      "130        EB    0   00:40:00  0, 0\n",
      "195        EB    0   01:00:00  0, 0\n",
      "260        EB    0   01:20:00  0, 0\n",
      "0      70\n",
      "65     70\n",
      "130    70\n",
      "195    70\n",
      "260    70\n",
      "Name: congestion, dtype: int64\n"
     ]
    }
   ],
   "source": [
    "X_train = Train_1.drop(['congestion'], axis = 1)\n",
    "# Train_1['cbrt_congestion'] = np.cbrt(Train_1['congestion'])\n",
    "y_train = Train_1['congestion']\n",
    "\n",
    "print(X_train.head())\n",
    "print(y_train.head())"
   ]
  },
  {
   "cell_type": "markdown",
   "id": "dba2b2a3",
   "metadata": {
    "papermill": {
     "duration": 0.044324,
     "end_time": "2022-03-22T06:24:14.032684",
     "exception": false,
     "start_time": "2022-03-22T06:24:13.988360",
     "status": "completed"
    },
    "tags": []
   },
   "source": [
    "We will need to scale our X variables for our model"
   ]
  },
  {
   "cell_type": "code",
   "execution_count": 16,
   "id": "f02d0295",
   "metadata": {
    "execution": {
     "iopub.execute_input": "2022-03-22T06:24:14.126258Z",
     "iopub.status.busy": "2022-03-22T06:24:14.125576Z",
     "iopub.status.idle": "2022-03-22T06:24:14.283860Z",
     "shell.execute_reply": "2022-03-22T06:24:14.283214Z",
     "shell.execute_reply.started": "2022-03-22T02:06:58.942007Z"
    },
    "papermill": {
     "duration": 0.206873,
     "end_time": "2022-03-22T06:24:14.284037",
     "exception": false,
     "start_time": "2022-03-22T06:24:14.077164",
     "status": "completed"
    },
    "tags": []
   },
   "outputs": [],
   "source": [
    "from sklearn import preprocessing\n",
    "scaler = preprocessing.StandardScaler()"
   ]
  },
  {
   "cell_type": "markdown",
   "id": "bd3f91d7",
   "metadata": {
    "papermill": {
     "duration": 0.04464,
     "end_time": "2022-03-22T06:24:14.376270",
     "exception": false,
     "start_time": "2022-03-22T06:24:14.331630",
     "status": "completed"
    },
    "tags": []
   },
   "source": [
    "#### Train-Test Splitting\n",
    "Finally, we will be splitting our train and test data from our given Training Dataset, with a Test Size of 20%."
   ]
  },
  {
   "cell_type": "code",
   "execution_count": 17,
   "id": "15c42ac6",
   "metadata": {
    "execution": {
     "iopub.execute_input": "2022-03-22T06:24:14.471039Z",
     "iopub.status.busy": "2022-03-22T06:24:14.470337Z",
     "iopub.status.idle": "2022-03-22T06:24:14.995928Z",
     "shell.execute_reply": "2022-03-22T06:24:14.995284Z",
     "shell.execute_reply.started": "2022-03-22T02:06:59.069545Z"
    },
    "papermill": {
     "duration": 0.575202,
     "end_time": "2022-03-22T06:24:14.996130",
     "exception": false,
     "start_time": "2022-03-22T06:24:14.420928",
     "status": "completed"
    },
    "tags": []
   },
   "outputs": [],
   "source": [
    "from sklearn.model_selection import train_test_split\n",
    "X_subtrain, X_subtest, y_subtrain, y_subtest = train_test_split(X_train, y_train, test_size = 0.2, random_state = 20220301)"
   ]
  },
  {
   "cell_type": "markdown",
   "id": "c12917b7",
   "metadata": {
    "papermill": {
     "duration": 0.044225,
     "end_time": "2022-03-22T06:24:15.086074",
     "exception": false,
     "start_time": "2022-03-22T06:24:15.041849",
     "status": "completed"
    },
    "tags": []
   },
   "source": [
    "#### Our Linear Model\n",
    "In order to create our linear model for fitting of our train data, we will first have to convert our categorical variables to numeric. In order to create dummies to represent these categories, we will first employ One Hot Encoding. We then create a linear model by fiting our training data to represent the relation between our suggested dependent variables and congestion. "
   ]
  },
  {
   "cell_type": "code",
   "execution_count": 18,
   "id": "be010d61",
   "metadata": {
    "execution": {
     "iopub.execute_input": "2022-03-22T06:24:15.180847Z",
     "iopub.status.busy": "2022-03-22T06:24:15.180221Z",
     "iopub.status.idle": "2022-03-22T06:24:15.194420Z",
     "shell.execute_reply": "2022-03-22T06:24:15.193830Z",
     "shell.execute_reply.started": "2022-03-22T02:06:59.541069Z"
    },
    "papermill": {
     "duration": 0.063227,
     "end_time": "2022-03-22T06:24:15.194588",
     "exception": false,
     "start_time": "2022-03-22T06:24:15.131361",
     "status": "completed"
    },
    "tags": []
   },
   "outputs": [],
   "source": [
    "from sklearn.preprocessing import OneHotEncoder\n",
    "from sklearn.compose import make_column_transformer\n",
    "\n",
    "Encode_features = Train_1.columns[Train_1.dtypes==object].tolist()\n",
    "col_transform = make_column_transformer((OneHotEncoder(), Encode_features), remainder = \"passthrough\")"
   ]
  },
  {
   "cell_type": "code",
   "execution_count": 19,
   "id": "394afe3b",
   "metadata": {
    "execution": {
     "iopub.execute_input": "2022-03-22T06:24:15.288741Z",
     "iopub.status.busy": "2022-03-22T06:24:15.288099Z",
     "iopub.status.idle": "2022-03-22T06:24:15.367841Z",
     "shell.execute_reply": "2022-03-22T06:24:15.368366Z",
     "shell.execute_reply.started": "2022-03-22T02:06:59.563346Z"
    },
    "papermill": {
     "duration": 0.129381,
     "end_time": "2022-03-22T06:24:15.368559",
     "exception": false,
     "start_time": "2022-03-22T06:24:15.239178",
     "status": "completed"
    },
    "tags": []
   },
   "outputs": [],
   "source": [
    "from sklearn import linear_model\n",
    "LR = linear_model.LinearRegression()\n",
    "# LR = linear_model.PoissonRegressor()\n",
    "# GR = linear_model.LogisticRegression(solver='liblinear', max_iter=400)\n",
    "# R = linear_model.Ridge()\n",
    "Poly = preprocessing.PolynomialFeatures(degree=4)"
   ]
  },
  {
   "cell_type": "code",
   "execution_count": 20,
   "id": "a096d103",
   "metadata": {
    "execution": {
     "iopub.execute_input": "2022-03-22T06:24:15.850580Z",
     "iopub.status.busy": "2022-03-22T06:24:15.555395Z",
     "iopub.status.idle": "2022-03-22T09:49:04.169779Z",
     "shell.execute_reply": "2022-03-22T09:49:04.168913Z",
     "shell.execute_reply.started": "2022-03-22T02:06:59.636592Z"
    },
    "papermill": {
     "duration": 12288.755953,
     "end_time": "2022-03-22T09:49:04.170012",
     "exception": false,
     "start_time": "2022-03-22T06:24:15.414059",
     "status": "completed"
    },
    "tags": []
   },
   "outputs": [],
   "source": [
    "from sklearn.pipeline import make_pipeline as pipe\n",
    "\n",
    "EncPR = pipe(col_transform, Poly, LR)\n",
    "EncPR.fit(X_subtrain, y_subtrain)\n",
    "y_hat = (EncPR.predict(X_subtest))"
   ]
  },
  {
   "cell_type": "code",
   "execution_count": 21,
   "id": "b2aa6c85",
   "metadata": {
    "execution": {
     "iopub.execute_input": "2022-03-22T09:49:04.271883Z",
     "iopub.status.busy": "2022-03-22T09:49:04.271117Z",
     "iopub.status.idle": "2022-03-22T09:49:04.285524Z",
     "shell.execute_reply": "2022-03-22T09:49:04.286081Z",
     "shell.execute_reply.started": "2022-03-22T05:27:38.344319Z"
    },
    "papermill": {
     "duration": 0.06685,
     "end_time": "2022-03-22T09:49:04.286285",
     "exception": false,
     "start_time": "2022-03-22T09:49:04.219435",
     "status": "completed"
    },
    "tags": []
   },
   "outputs": [
    {
     "name": "stdout",
     "output_type": "stream",
     "text": [
      "The R-squared value of our linear model is  0.7102010603692248\n"
     ]
    }
   ],
   "source": [
    "# from statistics import mean\n",
    "# SSR = sum((y_subtest - y_hat) ** 2)\n",
    "# y_mean = mean(y_subtest)\n",
    "# SST = sum((y_mean - y_subtest) ** 2)\n",
    "# R2 = 1 - (SSR/SST)\n",
    "\n",
    "import sklearn.metrics as metrics\n",
    "R2=metrics.r2_score(y_subtest, y_hat)\n",
    "\n",
    "print(\"The R-squared value of our linear model is \", R2)"
   ]
  },
  {
   "cell_type": "markdown",
   "id": "c00d8fec",
   "metadata": {
    "papermill": {
     "duration": 0.04559,
     "end_time": "2022-03-22T09:49:04.377744",
     "exception": false,
     "start_time": "2022-03-22T09:49:04.332154",
     "status": "completed"
    },
    "tags": []
   },
   "source": [
    "### Step 5: Predicting Congestion using Test Data"
   ]
  },
  {
   "cell_type": "markdown",
   "id": "2afbc1c4",
   "metadata": {
    "papermill": {
     "duration": 0.04653,
     "end_time": "2022-03-22T09:49:04.471168",
     "exception": false,
     "start_time": "2022-03-22T09:49:04.424638",
     "status": "completed"
    },
    "tags": []
   },
   "source": [
    "First, we will transform our dependent varialbes in our Test Data to suit our linear model."
   ]
  },
  {
   "cell_type": "code",
   "execution_count": 22,
   "id": "f38f0701",
   "metadata": {
    "execution": {
     "iopub.execute_input": "2022-03-22T09:49:04.583562Z",
     "iopub.status.busy": "2022-03-22T09:49:04.582791Z",
     "iopub.status.idle": "2022-03-22T09:49:04.613827Z",
     "shell.execute_reply": "2022-03-22T09:49:04.614393Z",
     "shell.execute_reply.started": "2022-03-22T05:27:38.357420Z"
    },
    "papermill": {
     "duration": 0.096879,
     "end_time": "2022-03-22T09:49:04.614597",
     "exception": false,
     "start_time": "2022-03-22T09:49:04.517718",
     "status": "completed"
    },
    "tags": []
   },
   "outputs": [
    {
     "name": "stdout",
     "output_type": "stream",
     "text": [
      "<class 'pandas.core.frame.DataFrame'>\n",
      "RangeIndex: 2340 entries, 0 to 2339\n",
      "Data columns (total 8 columns):\n",
      " #   Column      Non-Null Count  Dtype         \n",
      "---  ------      --------------  -----         \n",
      " 0   row_id      2340 non-null   int64         \n",
      " 1   time        2340 non-null   datetime64[ns]\n",
      " 2   x           2340 non-null   int64         \n",
      " 3   y           2340 non-null   int64         \n",
      " 4   direction   2340 non-null   object        \n",
      " 5   day         2340 non-null   int64         \n",
      " 6   time-block  2340 non-null   object        \n",
      " 7   coord       2340 non-null   object        \n",
      "dtypes: datetime64[ns](1), int64(4), object(3)\n",
      "memory usage: 146.4+ KB\n"
     ]
    }
   ],
   "source": [
    "Test['time'] = pd.to_datetime(Test['time'])\n",
    "Test['day'] = pd.to_datetime(Test['time']).dt.dayofweek\n",
    "Test['time-block'] = Test['time'].dt.time\n",
    "Test['time-block'] = Test['time-block'].astype('str')\n",
    "Test['coord'] = Test['x'].astype(str) + ', ' + Test['y'].astype(str)\n",
    "Test['coord'] = Test['coord'].astype(object)\n",
    "Test.info()"
   ]
  },
  {
   "cell_type": "code",
   "execution_count": 23,
   "id": "57875dab",
   "metadata": {
    "execution": {
     "iopub.execute_input": "2022-03-22T09:49:04.715042Z",
     "iopub.status.busy": "2022-03-22T09:49:04.710193Z",
     "iopub.status.idle": "2022-03-22T09:49:04.728499Z",
     "shell.execute_reply": "2022-03-22T09:49:04.729071Z",
     "shell.execute_reply.started": "2022-03-22T05:27:38.399707Z"
    },
    "papermill": {
     "duration": 0.068637,
     "end_time": "2022-03-22T09:49:04.729279",
     "exception": false,
     "start_time": "2022-03-22T09:49:04.660642",
     "status": "completed"
    },
    "tags": []
   },
   "outputs": [
    {
     "name": "stdout",
     "output_type": "stream",
     "text": [
      "<class 'pandas.core.frame.DataFrame'>\n",
      "RangeIndex: 2340 entries, 0 to 2339\n",
      "Data columns (total 4 columns):\n",
      " #   Column      Non-Null Count  Dtype \n",
      "---  ------      --------------  ----- \n",
      " 0   direction   2340 non-null   object\n",
      " 1   day         2340 non-null   int64 \n",
      " 2   time-block  2340 non-null   object\n",
      " 3   coord       2340 non-null   object\n",
      "dtypes: int64(1), object(3)\n",
      "memory usage: 73.2+ KB\n"
     ]
    }
   ],
   "source": [
    "Test_1 = Test\n",
    "Test_1 = Test_1.drop(['row_id','x','y','time'], axis=1) \n",
    "Test_1.info()"
   ]
  },
  {
   "cell_type": "code",
   "execution_count": 24,
   "id": "1b6a0290",
   "metadata": {
    "execution": {
     "iopub.execute_input": "2022-03-22T09:49:04.837418Z",
     "iopub.status.busy": "2022-03-22T09:49:04.836289Z",
     "iopub.status.idle": "2022-03-22T10:48:25.978168Z",
     "shell.execute_reply": "2022-03-22T10:48:25.976756Z",
     "shell.execute_reply.started": "2022-03-22T06:02:25.770428Z"
    },
    "papermill": {
     "duration": 3561.202999,
     "end_time": "2022-03-22T10:48:25.978749",
     "exception": false,
     "start_time": "2022-03-22T09:49:04.775750",
     "status": "completed"
    },
    "tags": []
   },
   "outputs": [],
   "source": [
    "y_predict = EncPR.predict(Test_1)\n",
    "Test_congestion = Test.assign(congestion = y_predict)\n",
    "Test_congestion.head()\n",
    "submission = Test_congestion[['row_id', 'congestion']]\n",
    "submission.head()\n",
    "submission.to_csv('submission.csv', index=False)"
   ]
  }
 ],
 "metadata": {
  "kernelspec": {
   "display_name": "Python 3",
   "language": "python",
   "name": "python3"
  },
  "language_info": {
   "codemirror_mode": {
    "name": "ipython",
    "version": 3
   },
   "file_extension": ".py",
   "mimetype": "text/x-python",
   "name": "python",
   "nbconvert_exporter": "python",
   "pygments_lexer": "ipython3",
   "version": "3.7.12"
  },
  "papermill": {
   "default_parameters": {},
   "duration": 15907.497992,
   "end_time": "2022-03-22T10:48:29.078784",
   "environment_variables": {},
   "exception": null,
   "input_path": "__notebook__.ipynb",
   "output_path": "__notebook__.ipynb",
   "parameters": {},
   "start_time": "2022-03-22T06:23:21.580792",
   "version": "2.3.3"
  }
 },
 "nbformat": 4,
 "nbformat_minor": 5
}

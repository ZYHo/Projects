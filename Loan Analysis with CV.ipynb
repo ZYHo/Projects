{
 "cells": [
  {
   "cell_type": "markdown",
   "id": "20746e7c",
   "metadata": {},
   "source": [
    "# Predict Approval of Loan"
   ]
  },
  {
   "cell_type": "markdown",
   "id": "0c011214",
   "metadata": {},
   "source": [
    "## Import library and dataset"
   ]
  },
  {
   "cell_type": "code",
   "execution_count": 1,
   "id": "16d7ab71",
   "metadata": {},
   "outputs": [],
   "source": [
    "import numpy as np \n",
    "import pandas as pd \n",
    "import matplotlib.pyplot as plt\n",
    "import seaborn as sns"
   ]
  },
  {
   "cell_type": "code",
   "execution_count": 2,
   "id": "eb6e95e7",
   "metadata": {},
   "outputs": [],
   "source": [
    "loan_train = pd.read_csv(\"train_ctrUa4K.csv\")\n",
    "loan_test = pd.read_csv(\"test_lAUu6dG.csv\")\n",
    "Test_file = loan_test"
   ]
  },
  {
   "cell_type": "markdown",
   "id": "64a211a9",
   "metadata": {},
   "source": [
    "## Data Exploration and Visualisation"
   ]
  },
  {
   "cell_type": "code",
   "execution_count": 3,
   "id": "eb292d10",
   "metadata": {},
   "outputs": [
    {
     "data": {
      "text/html": [
       "<div>\n",
       "<style scoped>\n",
       "    .dataframe tbody tr th:only-of-type {\n",
       "        vertical-align: middle;\n",
       "    }\n",
       "\n",
       "    .dataframe tbody tr th {\n",
       "        vertical-align: top;\n",
       "    }\n",
       "\n",
       "    .dataframe thead th {\n",
       "        text-align: right;\n",
       "    }\n",
       "</style>\n",
       "<table border=\"1\" class=\"dataframe\">\n",
       "  <thead>\n",
       "    <tr style=\"text-align: right;\">\n",
       "      <th></th>\n",
       "      <th>Loan_ID</th>\n",
       "      <th>Gender</th>\n",
       "      <th>Married</th>\n",
       "      <th>Dependents</th>\n",
       "      <th>Education</th>\n",
       "      <th>Self_Employed</th>\n",
       "      <th>ApplicantIncome</th>\n",
       "      <th>CoapplicantIncome</th>\n",
       "      <th>LoanAmount</th>\n",
       "      <th>Loan_Amount_Term</th>\n",
       "      <th>Credit_History</th>\n",
       "      <th>Property_Area</th>\n",
       "      <th>Loan_Status</th>\n",
       "    </tr>\n",
       "  </thead>\n",
       "  <tbody>\n",
       "    <tr>\n",
       "      <th>0</th>\n",
       "      <td>LP001002</td>\n",
       "      <td>Male</td>\n",
       "      <td>No</td>\n",
       "      <td>0</td>\n",
       "      <td>Graduate</td>\n",
       "      <td>No</td>\n",
       "      <td>5849</td>\n",
       "      <td>0.0</td>\n",
       "      <td>NaN</td>\n",
       "      <td>360.0</td>\n",
       "      <td>1.0</td>\n",
       "      <td>Urban</td>\n",
       "      <td>Y</td>\n",
       "    </tr>\n",
       "    <tr>\n",
       "      <th>1</th>\n",
       "      <td>LP001003</td>\n",
       "      <td>Male</td>\n",
       "      <td>Yes</td>\n",
       "      <td>1</td>\n",
       "      <td>Graduate</td>\n",
       "      <td>No</td>\n",
       "      <td>4583</td>\n",
       "      <td>1508.0</td>\n",
       "      <td>128.0</td>\n",
       "      <td>360.0</td>\n",
       "      <td>1.0</td>\n",
       "      <td>Rural</td>\n",
       "      <td>N</td>\n",
       "    </tr>\n",
       "    <tr>\n",
       "      <th>2</th>\n",
       "      <td>LP001005</td>\n",
       "      <td>Male</td>\n",
       "      <td>Yes</td>\n",
       "      <td>0</td>\n",
       "      <td>Graduate</td>\n",
       "      <td>Yes</td>\n",
       "      <td>3000</td>\n",
       "      <td>0.0</td>\n",
       "      <td>66.0</td>\n",
       "      <td>360.0</td>\n",
       "      <td>1.0</td>\n",
       "      <td>Urban</td>\n",
       "      <td>Y</td>\n",
       "    </tr>\n",
       "    <tr>\n",
       "      <th>3</th>\n",
       "      <td>LP001006</td>\n",
       "      <td>Male</td>\n",
       "      <td>Yes</td>\n",
       "      <td>0</td>\n",
       "      <td>Not Graduate</td>\n",
       "      <td>No</td>\n",
       "      <td>2583</td>\n",
       "      <td>2358.0</td>\n",
       "      <td>120.0</td>\n",
       "      <td>360.0</td>\n",
       "      <td>1.0</td>\n",
       "      <td>Urban</td>\n",
       "      <td>Y</td>\n",
       "    </tr>\n",
       "    <tr>\n",
       "      <th>4</th>\n",
       "      <td>LP001008</td>\n",
       "      <td>Male</td>\n",
       "      <td>No</td>\n",
       "      <td>0</td>\n",
       "      <td>Graduate</td>\n",
       "      <td>No</td>\n",
       "      <td>6000</td>\n",
       "      <td>0.0</td>\n",
       "      <td>141.0</td>\n",
       "      <td>360.0</td>\n",
       "      <td>1.0</td>\n",
       "      <td>Urban</td>\n",
       "      <td>Y</td>\n",
       "    </tr>\n",
       "  </tbody>\n",
       "</table>\n",
       "</div>"
      ],
      "text/plain": [
       "    Loan_ID Gender Married Dependents     Education Self_Employed  \\\n",
       "0  LP001002   Male      No          0      Graduate            No   \n",
       "1  LP001003   Male     Yes          1      Graduate            No   \n",
       "2  LP001005   Male     Yes          0      Graduate           Yes   \n",
       "3  LP001006   Male     Yes          0  Not Graduate            No   \n",
       "4  LP001008   Male      No          0      Graduate            No   \n",
       "\n",
       "   ApplicantIncome  CoapplicantIncome  LoanAmount  Loan_Amount_Term  \\\n",
       "0             5849                0.0         NaN             360.0   \n",
       "1             4583             1508.0       128.0             360.0   \n",
       "2             3000                0.0        66.0             360.0   \n",
       "3             2583             2358.0       120.0             360.0   \n",
       "4             6000                0.0       141.0             360.0   \n",
       "\n",
       "   Credit_History Property_Area Loan_Status  \n",
       "0             1.0         Urban           Y  \n",
       "1             1.0         Rural           N  \n",
       "2             1.0         Urban           Y  \n",
       "3             1.0         Urban           Y  \n",
       "4             1.0         Urban           Y  "
      ]
     },
     "execution_count": 3,
     "metadata": {},
     "output_type": "execute_result"
    }
   ],
   "source": [
    "loan_train.head()"
   ]
  },
  {
   "cell_type": "code",
   "execution_count": 4,
   "id": "032fb955",
   "metadata": {},
   "outputs": [
    {
     "data": {
      "text/plain": [
       "Loan_ID               object\n",
       "Gender                object\n",
       "Married               object\n",
       "Dependents            object\n",
       "Education             object\n",
       "Self_Employed         object\n",
       "ApplicantIncome        int64\n",
       "CoapplicantIncome    float64\n",
       "LoanAmount           float64\n",
       "Loan_Amount_Term     float64\n",
       "Credit_History       float64\n",
       "Property_Area         object\n",
       "Loan_Status           object\n",
       "dtype: object"
      ]
     },
     "execution_count": 4,
     "metadata": {},
     "output_type": "execute_result"
    }
   ],
   "source": [
    "loan_train.dtypes"
   ]
  },
  {
   "cell_type": "code",
   "execution_count": 5,
   "id": "7b91ca25",
   "metadata": {},
   "outputs": [
    {
     "name": "stdout",
     "output_type": "stream",
     "text": [
      "Loan_ID               0\n",
      "Gender               13\n",
      "Married               3\n",
      "Dependents           15\n",
      "Education             0\n",
      "Self_Employed        32\n",
      "ApplicantIncome       0\n",
      "CoapplicantIncome     0\n",
      "LoanAmount           22\n",
      "Loan_Amount_Term     14\n",
      "Credit_History       50\n",
      "Property_Area         0\n",
      "Loan_Status           0\n",
      "dtype: int64 Loan_ID               0\n",
      "Gender               11\n",
      "Married               0\n",
      "Dependents           10\n",
      "Education             0\n",
      "Self_Employed        23\n",
      "ApplicantIncome       0\n",
      "CoapplicantIncome     0\n",
      "LoanAmount            5\n",
      "Loan_Amount_Term      6\n",
      "Credit_History       29\n",
      "Property_Area         0\n",
      "dtype: int64\n"
     ]
    }
   ],
   "source": [
    "print(loan_train.isnull().sum(),loan_test.isnull().sum())"
   ]
  },
  {
   "cell_type": "markdown",
   "id": "1aebd75e",
   "metadata": {},
   "source": [
    "There are missing values in our variables. Two options:\n",
    "\n",
    "1) to remove rows with missing value, or,\n",
    "\n",
    "2) to replace the NA variables with the mean\n",
    "\n",
    "\n",
    "We select option 2. However, to find the mean we need to first convert the categorical data to numerical values. Before that, lets take a look at how our data is like."
   ]
  },
  {
   "cell_type": "code",
   "execution_count": 6,
   "id": "22ae4611",
   "metadata": {},
   "outputs": [
    {
     "data": {
      "image/png": "[encoded data removed]",
      "text/plain": [
       "<Figure size 432x216 with 2 Axes>"
      ]
     },
     "metadata": {
      "needs_background": "light"
     },
     "output_type": "display_data"
    }
   ],
   "source": [
    "bins = np.linspace(loan_train.LoanAmount.min(), loan_train.LoanAmount.max(), 10) \n",
    "g = sns.FacetGrid(loan_train, col=\"Gender\", hue=\"Loan_Status\", palette=\"Set1\", col_wrap=2) \n",
    "g.map(plt.hist, 'LoanAmount', bins=bins, ec=\"k\") \n",
    "g.axes[-1].legend() \n",
    "plt.show() "
   ]
  },
  {
   "cell_type": "code",
   "execution_count": 7,
   "id": "cebbca5a",
   "metadata": {},
   "outputs": [
    {
     "data": {
      "image/png": "[encoded data removed]",
      "text/plain": [
       "<Figure size 432x216 with 2 Axes>"
      ]
     },
     "metadata": {
      "needs_background": "light"
     },
     "output_type": "display_data"
    }
   ],
   "source": [
    "bins = np.linspace(loan_train.LoanAmount.min(), loan_train.LoanAmount.max(), 10) \n",
    "g = sns.FacetGrid(loan_train, col=\"Education\", hue=\"Loan_Status\", palette=\"Set1\", col_wrap=2) \n",
    "g.map(plt.hist, 'LoanAmount', bins=bins, ec=\"k\") \n",
    "g.axes[-1].legend() \n",
    "plt.show() "
   ]
  },
  {
   "cell_type": "code",
   "execution_count": 8,
   "id": "b74e93d6",
   "metadata": {},
   "outputs": [
    {
     "data": {
      "image/png": "[encoded data removed]",
      "text/plain": [
       "<Figure size 432x216 with 2 Axes>"
      ]
     },
     "metadata": {
      "needs_background": "light"
     },
     "output_type": "display_data"
    }
   ],
   "source": [
    "g = sns.FacetGrid(loan_train, col=\"Gender\", hue=\"Loan_Status\", palette=\"Set1\", col_wrap=2) \n",
    "g.map(plt.hist, 'Education', ec = \"k\") \n",
    "g.axes[-1].legend() \n",
    "plt.show() "
   ]
  },
  {
   "cell_type": "markdown",
   "id": "578ca6a5",
   "metadata": {},
   "source": [
    "## Convert Categorical Variables to Numerical Values"
   ]
  },
  {
   "cell_type": "code",
   "execution_count": 9,
   "id": "a27701a9",
   "metadata": {},
   "outputs": [
    {
     "data": {
      "text/plain": [
       "Loan_ID               object\n",
       "Gender               float64\n",
       "Married              float64\n",
       "Dependents           float64\n",
       "Education              int64\n",
       "Self_Employed        float64\n",
       "ApplicantIncome        int64\n",
       "CoapplicantIncome    float64\n",
       "LoanAmount           float64\n",
       "Loan_Amount_Term     float64\n",
       "Credit_History       float64\n",
       "Property_Area         object\n",
       "Loan_Status           object\n",
       "dtype: object"
      ]
     },
     "execution_count": 9,
     "metadata": {},
     "output_type": "execute_result"
    }
   ],
   "source": [
    "loan_train['Gender'].replace(to_replace=['Male','Female'], value=[0,1],inplace=True) \n",
    "loan_train['Education'].replace(to_replace=['Graduate','Not Graduate'], value = [0,1], inplace = True)\n",
    "loan_train['Self_Employed'].replace(to_replace=['Yes','No'], value=[0,1],inplace=True) \n",
    "loan_train['Married'].replace(to_replace=['Yes','No'], value=[0,1],inplace=True)\n",
    "loan_train['Dependents'].replace(to_replace=['3+'], value = [3], inplace = True)\n",
    "loan_train['Dependents'] = loan_train['Dependents'].astype(float)\n",
    "loan_train.dtypes"
   ]
  },
  {
   "cell_type": "code",
   "execution_count": 10,
   "id": "28399554",
   "metadata": {},
   "outputs": [
    {
     "name": "stdout",
     "output_type": "stream",
     "text": [
      "Loan_ID               0\n",
      "Gender               13\n",
      "Married               3\n",
      "Dependents            0\n",
      "Education             0\n",
      "Self_Employed        32\n",
      "ApplicantIncome       0\n",
      "CoapplicantIncome     0\n",
      "LoanAmount           22\n",
      "Loan_Amount_Term     14\n",
      "Credit_History       50\n",
      "Property_Area         0\n",
      "Loan_Status           0\n",
      "dtype: int64 Loan_ID               0\n",
      "Gender               11\n",
      "Married               0\n",
      "Dependents            0\n",
      "Education             0\n",
      "Self_Employed        23\n",
      "ApplicantIncome       0\n",
      "CoapplicantIncome     0\n",
      "LoanAmount            5\n",
      "Loan_Amount_Term      6\n",
      "Credit_History       29\n",
      "Property_Area         0\n",
      "dtype: int64\n"
     ]
    }
   ],
   "source": [
    "loan_train['Dependents'] = loan_train['Dependents'].fillna(loan_train['Dependents'].mean())\n",
    "loan_test['Dependents'] = loan_test['Dependents'].fillna(loan_train['Dependents'].mean())\n",
    "print(loan_train.isnull().sum(),loan_test.isnull().sum())"
   ]
  },
  {
   "cell_type": "code",
   "execution_count": 11,
   "id": "08224f33",
   "metadata": {},
   "outputs": [
    {
     "name": "stdout",
     "output_type": "stream",
     "text": [
      "Loan_ID              0\n",
      "Gender               0\n",
      "Married              0\n",
      "Dependents           0\n",
      "Education            0\n",
      "Self_Employed        0\n",
      "ApplicantIncome      0\n",
      "CoapplicantIncome    0\n",
      "LoanAmount           0\n",
      "Loan_Amount_Term     0\n",
      "Credit_History       0\n",
      "Property_Area        0\n",
      "Loan_Status          0\n",
      "dtype: int64 Loan_ID              0\n",
      "Gender               0\n",
      "Married              0\n",
      "Dependents           0\n",
      "Education            0\n",
      "Self_Employed        0\n",
      "ApplicantIncome      0\n",
      "CoapplicantIncome    0\n",
      "LoanAmount           0\n",
      "Loan_Amount_Term     0\n",
      "Credit_History       0\n",
      "Property_Area        0\n",
      "dtype: int64\n"
     ]
    }
   ],
   "source": [
    "loan_train = loan_train.fillna(0.5)\n",
    "loan_test = loan_test.fillna(0.5)\n",
    "print(loan_train.isnull().sum(),loan_test.isnull().sum())"
   ]
  },
  {
   "cell_type": "markdown",
   "id": "0ad61bc7",
   "metadata": {},
   "source": [
    "## One Hot Encoding"
   ]
  },
  {
   "cell_type": "markdown",
   "id": "4d18f3f8",
   "metadata": {},
   "source": [
    "### Property Area"
   ]
  },
  {
   "cell_type": "markdown",
   "id": "b8c2f8b0",
   "metadata": {},
   "source": [
    "Since the variable Property_Area has more than 2 categories, we will use one hot encoding instead to convert it to numerical variables"
   ]
  },
  {
   "cell_type": "code",
   "execution_count": 12,
   "id": "9f3fd629",
   "metadata": {},
   "outputs": [
    {
     "data": {
      "text/plain": [
       "Property_Area  Loan_Status\n",
       "Rural          Y              0.614525\n",
       "               N              0.385475\n",
       "Semiurban      Y              0.768240\n",
       "               N              0.231760\n",
       "Urban          Y              0.658416\n",
       "               N              0.341584\n",
       "Name: Loan_Status, dtype: float64"
      ]
     },
     "execution_count": 12,
     "metadata": {},
     "output_type": "execute_result"
    }
   ],
   "source": [
    "loan_train.groupby(['Property_Area'])['Loan_Status'].value_counts(normalize=True) "
   ]
  },
  {
   "cell_type": "code",
   "execution_count": 13,
   "id": "e0149795",
   "metadata": {},
   "outputs": [
    {
     "name": "stdout",
     "output_type": "stream",
     "text": [
      "   Gender  Married  Dependents  Education  Self_Employed  ApplicantIncome  \\\n",
      "0     0.0      1.0         0.0          0            1.0             5849   \n",
      "1     0.0      0.0         1.0          0            1.0             4583   \n",
      "2     0.0      0.0         0.0          0            0.0             3000   \n",
      "3     0.0      0.0         0.0          1            1.0             2583   \n",
      "4     0.0      1.0         0.0          0            1.0             6000   \n",
      "\n",
      "   CoapplicantIncome  LoanAmount  Loan_Amount_Term  Credit_History  Rural  \\\n",
      "0                0.0         0.5             360.0             1.0      0   \n",
      "1             1508.0       128.0             360.0             1.0      1   \n",
      "2                0.0        66.0             360.0             1.0      0   \n",
      "3             2358.0       120.0             360.0             1.0      0   \n",
      "4                0.0       141.0             360.0             1.0      0   \n",
      "\n",
      "   Semiurban  Urban  \n",
      "0          0      1  \n",
      "1          0      0  \n",
      "2          0      1  \n",
      "3          0      1  \n",
      "4          0      1  \n",
      "<class 'pandas.core.frame.DataFrame'>\n",
      "RangeIndex: 614 entries, 0 to 613\n",
      "Data columns (total 13 columns):\n",
      " #   Column             Non-Null Count  Dtype  \n",
      "---  ------             --------------  -----  \n",
      " 0   Gender             614 non-null    float64\n",
      " 1   Married            614 non-null    float64\n",
      " 2   Dependents         614 non-null    float64\n",
      " 3   Education          614 non-null    int64  \n",
      " 4   Self_Employed      614 non-null    float64\n",
      " 5   ApplicantIncome    614 non-null    int64  \n",
      " 6   CoapplicantIncome  614 non-null    float64\n",
      " 7   LoanAmount         614 non-null    float64\n",
      " 8   Loan_Amount_Term   614 non-null    float64\n",
      " 9   Credit_History     614 non-null    float64\n",
      " 10  Rural              614 non-null    uint8  \n",
      " 11  Semiurban          614 non-null    uint8  \n",
      " 12  Urban              614 non-null    uint8  \n",
      "dtypes: float64(8), int64(2), uint8(3)\n",
      "memory usage: 49.9 KB\n",
      "None\n"
     ]
    }
   ],
   "source": [
    "Feature = loan_train.drop(['Loan_Status','Loan_ID'], axis = 1)\n",
    "Feature = pd.concat([Feature,pd.get_dummies(loan_train['Property_Area'])], axis=1) \n",
    "Feature.drop(['Property_Area'],axis = 1,inplace = True)\n",
    "print(Feature.head())\n",
    "print(Feature.info())"
   ]
  },
  {
   "cell_type": "markdown",
   "id": "3e6d9578",
   "metadata": {},
   "source": [
    "## Feature Scaling"
   ]
  },
  {
   "cell_type": "markdown",
   "id": "0b87cd69",
   "metadata": {},
   "source": [
    "Next, we want to normalize our predictor variables so that they have zero mean and unit variance."
   ]
  },
  {
   "cell_type": "code",
   "execution_count": 14,
   "id": "b1ae6ca2",
   "metadata": {},
   "outputs": [],
   "source": [
    "from sklearn import preprocessing\n",
    "\n",
    "def scale_data(data):\n",
    "    scale_data = preprocessing.StandardScaler().fit(data).transform(data)\n",
    "    scale_data = pd.DataFrame(scale_data)\n",
    "    scale_data.columns = data.columns\n",
    "    \n",
    "    return scale_data"
   ]
  },
  {
   "cell_type": "code",
   "execution_count": 15,
   "id": "ba5cb18c",
   "metadata": {},
   "outputs": [
    {
     "data": {
      "text/html": [
       "<div>\n",
       "<style scoped>\n",
       "    .dataframe tbody tr th:only-of-type {\n",
       "        vertical-align: middle;\n",
       "    }\n",
       "\n",
       "    .dataframe tbody tr th {\n",
       "        vertical-align: top;\n",
       "    }\n",
       "\n",
       "    .dataframe thead th {\n",
       "        text-align: right;\n",
       "    }\n",
       "</style>\n",
       "<table border=\"1\" class=\"dataframe\">\n",
       "  <thead>\n",
       "    <tr style=\"text-align: right;\">\n",
       "      <th></th>\n",
       "      <th>Gender</th>\n",
       "      <th>Married</th>\n",
       "      <th>Dependents</th>\n",
       "      <th>Education</th>\n",
       "      <th>Self_Employed</th>\n",
       "      <th>ApplicantIncome</th>\n",
       "      <th>CoapplicantIncome</th>\n",
       "      <th>LoanAmount</th>\n",
       "      <th>Loan_Amount_Term</th>\n",
       "      <th>Credit_History</th>\n",
       "      <th>Rural</th>\n",
       "      <th>Semiurban</th>\n",
       "      <th>Urban</th>\n",
       "    </tr>\n",
       "  </thead>\n",
       "  <tbody>\n",
       "    <tr>\n",
       "      <th>0</th>\n",
       "      <td>-0.49756</td>\n",
       "      <td>1.368405</td>\n",
       "      <td>-0.761490</td>\n",
       "      <td>-0.528362</td>\n",
       "      <td>0.458646</td>\n",
       "      <td>0.072991</td>\n",
       "      <td>-0.554487</td>\n",
       "      <td>-1.594333</td>\n",
       "      <td>0.314201</td>\n",
       "      <td>0.5133</td>\n",
       "      <td>-0.641478</td>\n",
       "      <td>-0.782016</td>\n",
       "      <td>1.428147</td>\n",
       "    </tr>\n",
       "    <tr>\n",
       "      <th>1</th>\n",
       "      <td>-0.49756</td>\n",
       "      <td>-0.734726</td>\n",
       "      <td>0.236612</td>\n",
       "      <td>-0.528362</td>\n",
       "      <td>0.458646</td>\n",
       "      <td>-0.134412</td>\n",
       "      <td>-0.038732</td>\n",
       "      <td>-0.149411</td>\n",
       "      <td>0.314201</td>\n",
       "      <td>0.5133</td>\n",
       "      <td>1.558899</td>\n",
       "      <td>-0.782016</td>\n",
       "      <td>-0.700208</td>\n",
       "    </tr>\n",
       "    <tr>\n",
       "      <th>2</th>\n",
       "      <td>-0.49756</td>\n",
       "      <td>-0.734726</td>\n",
       "      <td>-0.761490</td>\n",
       "      <td>-0.528362</td>\n",
       "      <td>-2.414909</td>\n",
       "      <td>-0.393747</td>\n",
       "      <td>-0.554487</td>\n",
       "      <td>-0.852040</td>\n",
       "      <td>0.314201</td>\n",
       "      <td>0.5133</td>\n",
       "      <td>-0.641478</td>\n",
       "      <td>-0.782016</td>\n",
       "      <td>1.428147</td>\n",
       "    </tr>\n",
       "    <tr>\n",
       "      <th>3</th>\n",
       "      <td>-0.49756</td>\n",
       "      <td>-0.734726</td>\n",
       "      <td>-0.761490</td>\n",
       "      <td>1.892641</td>\n",
       "      <td>0.458646</td>\n",
       "      <td>-0.462062</td>\n",
       "      <td>0.251980</td>\n",
       "      <td>-0.240073</td>\n",
       "      <td>0.314201</td>\n",
       "      <td>0.5133</td>\n",
       "      <td>-0.641478</td>\n",
       "      <td>-0.782016</td>\n",
       "      <td>1.428147</td>\n",
       "    </tr>\n",
       "    <tr>\n",
       "      <th>4</th>\n",
       "      <td>-0.49756</td>\n",
       "      <td>1.368405</td>\n",
       "      <td>-0.761490</td>\n",
       "      <td>-0.528362</td>\n",
       "      <td>0.458646</td>\n",
       "      <td>0.097728</td>\n",
       "      <td>-0.554487</td>\n",
       "      <td>-0.002086</td>\n",
       "      <td>0.314201</td>\n",
       "      <td>0.5133</td>\n",
       "      <td>-0.641478</td>\n",
       "      <td>-0.782016</td>\n",
       "      <td>1.428147</td>\n",
       "    </tr>\n",
       "  </tbody>\n",
       "</table>\n",
       "</div>"
      ],
      "text/plain": [
       "    Gender   Married  Dependents  Education  Self_Employed  ApplicantIncome  \\\n",
       "0 -0.49756  1.368405   -0.761490  -0.528362       0.458646         0.072991   \n",
       "1 -0.49756 -0.734726    0.236612  -0.528362       0.458646        -0.134412   \n",
       "2 -0.49756 -0.734726   -0.761490  -0.528362      -2.414909        -0.393747   \n",
       "3 -0.49756 -0.734726   -0.761490   1.892641       0.458646        -0.462062   \n",
       "4 -0.49756  1.368405   -0.761490  -0.528362       0.458646         0.097728   \n",
       "\n",
       "   CoapplicantIncome  LoanAmount  Loan_Amount_Term  Credit_History     Rural  \\\n",
       "0          -0.554487   -1.594333          0.314201          0.5133 -0.641478   \n",
       "1          -0.038732   -0.149411          0.314201          0.5133  1.558899   \n",
       "2          -0.554487   -0.852040          0.314201          0.5133 -0.641478   \n",
       "3           0.251980   -0.240073          0.314201          0.5133 -0.641478   \n",
       "4          -0.554487   -0.002086          0.314201          0.5133 -0.641478   \n",
       "\n",
       "   Semiurban     Urban  \n",
       "0  -0.782016  1.428147  \n",
       "1  -0.782016 -0.700208  \n",
       "2  -0.782016  1.428147  \n",
       "3  -0.782016  1.428147  \n",
       "4  -0.782016  1.428147  "
      ]
     },
     "execution_count": 15,
     "metadata": {},
     "output_type": "execute_result"
    }
   ],
   "source": [
    "Scaled_Feature = scale_data(Feature)\n",
    "Scaled_Feature.head()"
   ]
  },
  {
   "cell_type": "markdown",
   "id": "78b84285",
   "metadata": {},
   "source": [
    "## Multicollinearity"
   ]
  },
  {
   "cell_type": "markdown",
   "id": "8daa8cdd",
   "metadata": {},
   "source": [
    "### Measuring multicollinearity with VIF"
   ]
  },
  {
   "cell_type": "markdown",
   "id": "8f91ba0f",
   "metadata": {},
   "source": [
    "Having multicollinearity in our model would affect its integrity. As such, we need to check for the possible presence of multicollinearity between our variables in our model.\n",
    "\n",
    "We will be using Variance inflation factor (VIF) to measure the degree of multicollinearity between our regression variables. A high value of VIF, would indicate a high correlation between two variables, vice versa."
   ]
  },
  {
   "cell_type": "code",
   "execution_count": 16,
   "id": "20a493f1",
   "metadata": {},
   "outputs": [
    {
     "name": "stdout",
     "output_type": "stream",
     "text": [
      "              feature       VIF\n",
      "0              Gender  1.179893\n",
      "1             Married  1.286529\n",
      "2          Dependents  1.161848\n",
      "3           Education  1.075513\n",
      "4       Self_Employed  1.025740\n",
      "5     ApplicantIncome  1.549572\n",
      "6   CoapplicantIncome  1.135180\n",
      "7          LoanAmount  1.622856\n",
      "8    Loan_Amount_Term  1.049503\n",
      "9      Credit_History  1.017193\n",
      "10              Rural       inf\n",
      "11          Semiurban       inf\n",
      "12              Urban       inf\n"
     ]
    },
    {
     "name": "stderr",
     "output_type": "stream",
     "text": [
      "C:\\Users\\Gordon\\anaconda3\\lib\\site-packages\\statsmodels\\stats\\outliers_influence.py:193: RuntimeWarning: divide by zero encountered in double_scalars\n",
      "  vif = 1. / (1. - r_squared_i)\n"
     ]
    }
   ],
   "source": [
    "from statsmodels.stats.outliers_influence import variance_inflation_factor\n",
    "\n",
    "vif_data = pd.DataFrame()\n",
    "vif_data[\"feature\"] = Scaled_Feature.columns\n",
    "  \n",
    "vif_data[\"VIF\"] = [variance_inflation_factor(Scaled_Feature.values, i)\n",
    "                          for i in range(len(Scaled_Feature.columns))]\n",
    "  \n",
    "print(vif_data)"
   ]
  },
  {
   "cell_type": "code",
   "execution_count": 17,
   "id": "9d63631f",
   "metadata": {},
   "outputs": [
    {
     "name": "stdout",
     "output_type": "stream",
     "text": [
      "              feature       VIF\n",
      "0              Gender  1.179893\n",
      "1             Married  1.286529\n",
      "2          Dependents  1.161848\n",
      "3           Education  1.075513\n",
      "4       Self_Employed  1.025740\n",
      "5     ApplicantIncome  1.549572\n",
      "6   CoapplicantIncome  1.135180\n",
      "7          LoanAmount  1.622856\n",
      "8    Loan_Amount_Term  1.049503\n",
      "9      Credit_History  1.017193\n",
      "10              Rural  1.279758\n",
      "11              Urban  1.284975\n"
     ]
    }
   ],
   "source": [
    "Scaled_Feature.drop(['Semiurban'],axis = 1,inplace = True)\n",
    "\n",
    "vif_data2 = pd.DataFrame()\n",
    "vif_data2[\"feature\"] = Scaled_Feature.columns\n",
    "  \n",
    "vif_data2[\"VIF\"] = [variance_inflation_factor(Scaled_Feature.values, i)\n",
    "                          for i in range(len(Scaled_Feature.columns))]\n",
    "  \n",
    "print(vif_data2)"
   ]
  },
  {
   "cell_type": "code",
   "execution_count": 18,
   "id": "a9ba85e9",
   "metadata": {},
   "outputs": [],
   "source": [
    "X_train = Scaled_Feature.values\n",
    "y_train = loan_train['Loan_Status'].values"
   ]
  },
  {
   "cell_type": "markdown",
   "id": "bfae6eaf",
   "metadata": {},
   "source": [
    "## Selection of Model using Cross-Validation"
   ]
  },
  {
   "cell_type": "code",
   "execution_count": 19,
   "id": "a17eb9a6",
   "metadata": {},
   "outputs": [],
   "source": [
    "# Import Necessary Libraries\n",
    "from sklearn.model_selection import cross_val_score"
   ]
  },
  {
   "cell_type": "markdown",
   "id": "3f578e11",
   "metadata": {},
   "source": [
    "### Train-Test Split"
   ]
  },
  {
   "cell_type": "code",
   "execution_count": 20,
   "id": "19cb7c79",
   "metadata": {},
   "outputs": [
    {
     "name": "stdout",
     "output_type": "stream",
     "text": [
      "Train set: (491, 12) (491,)\n",
      "Test set: (123, 12) (123,)\n"
     ]
    }
   ],
   "source": [
    "from sklearn.model_selection import train_test_split \n",
    "X_subtrain, X_subtest, y_subtrain, y_subtest = train_test_split (X_train, y_train, test_size=0.2, random_state \n",
    "= 4) \n",
    "print('Train set:', X_subtrain.shape, y_subtrain.shape) \n",
    "print('Test set:', X_subtest.shape, y_subtest.shape)"
   ]
  },
  {
   "cell_type": "markdown",
   "id": "18ab1ba2",
   "metadata": {},
   "source": [
    "### KNN Classifier"
   ]
  },
  {
   "cell_type": "code",
   "execution_count": 21,
   "id": "37a66ab2",
   "metadata": {},
   "outputs": [],
   "source": [
    "from sklearn.neighbors import KNeighborsClassifier \n",
    "from sklearn import metrics"
   ]
  },
  {
   "cell_type": "code",
   "execution_count": 22,
   "id": "bf627af3",
   "metadata": {},
   "outputs": [
    {
     "data": {
      "image/png": "[encoded data removed]",
      "text/plain": [
       "<Figure size 432x288 with 1 Axes>"
      ]
     },
     "metadata": {
      "needs_background": "light"
     },
     "output_type": "display_data"
    },
    {
     "name": "stdout",
     "output_type": "stream",
     "text": [
      "The model has the best accuracy score of  0.7948968799576944 with a k value of 7\n"
     ]
    }
   ],
   "source": [
    "# 10-Fold Cross validation\n",
    "k = 10 \n",
    "mean_acc = np.zeros((k-1)) \n",
    "std_acc = np.zeros((k-1)) \n",
    "for n in range(1,k): \n",
    "    KNN = KNeighborsClassifier(n_neighbors = n)\n",
    "    mean_acc[n-1] = np.mean(cross_val_score(KNN, X_train, y_train, cv=10))\n",
    "\n",
    "plt.plot(range(1,k), mean_acc, 'purple')  \n",
    "plt.ylabel('Av CV Accuracy')  \n",
    "plt.xlabel('Number of Neighbors (K)')  \n",
    "plt.tight_layout()  \n",
    "plt.show()  \n",
    "\n",
    "print(\"The model has the best accuracy score of \", mean_acc.max(), \"with a k value of\", mean_acc.argmax()+1) "
   ]
  },
  {
   "cell_type": "markdown",
   "id": "742d4c91",
   "metadata": {},
   "source": [
    "### Random Forest Classifier"
   ]
  },
  {
   "cell_type": "code",
   "execution_count": 23,
   "id": "de2e197d",
   "metadata": {},
   "outputs": [
    {
     "name": "stdout",
     "output_type": "stream",
     "text": [
      "Accuracy of Random Forest Classifier is  0.778609201480698\n"
     ]
    }
   ],
   "source": [
    "from sklearn.ensemble import RandomForestClassifier\n",
    "\n",
    "RFC = RandomForestClassifier() #Initialize with whatever parameters you want to\n",
    "\n",
    "# 10-Fold Cross validation\n",
    "RFC_accuracy = np.mean(cross_val_score(RFC, X_train, y_train, cv=10))\n",
    "\n",
    "print(\"Accuracy of Random Forest Classifier is \", RFC_accuracy)"
   ]
  },
  {
   "cell_type": "markdown",
   "id": "6155d1c3",
   "metadata": {},
   "source": [
    "## Predicting Loan Status"
   ]
  },
  {
   "cell_type": "markdown",
   "id": "5a0d0ab3",
   "metadata": {},
   "source": [
    "We will select the KNN Classifier with k = 7 since it has a higher accuracy rate"
   ]
  },
  {
   "cell_type": "markdown",
   "id": "c422b2f9",
   "metadata": {},
   "source": [
    "### Transform and select variables from test data"
   ]
  },
  {
   "cell_type": "code",
   "execution_count": 24,
   "id": "6b0b8c01",
   "metadata": {},
   "outputs": [
    {
     "name": "stdout",
     "output_type": "stream",
     "text": [
      "  Gender Married Dependents     Education Self_Employed  ApplicantIncome  \\\n",
      "0   Male     Yes          0      Graduate            No             5720   \n",
      "1   Male     Yes          1      Graduate            No             3076   \n",
      "2   Male     Yes          2      Graduate            No             5000   \n",
      "3   Male     Yes          2      Graduate            No             2340   \n",
      "4   Male      No          0  Not Graduate            No             3276   \n",
      "\n",
      "   CoapplicantIncome  LoanAmount  Loan_Amount_Term  Credit_History  Rural  \\\n",
      "0                  0       110.0             360.0             1.0      0   \n",
      "1               1500       126.0             360.0             1.0      0   \n",
      "2               1800       208.0             360.0             1.0      0   \n",
      "3               2546       100.0             360.0             0.5      0   \n",
      "4                  0        78.0             360.0             1.0      0   \n",
      "\n",
      "   Urban  \n",
      "0      1  \n",
      "1      1  \n",
      "2      1  \n",
      "3      1  \n",
      "4      1  \n",
      "<class 'pandas.core.frame.DataFrame'>\n",
      "RangeIndex: 367 entries, 0 to 366\n",
      "Data columns (total 12 columns):\n",
      " #   Column             Non-Null Count  Dtype  \n",
      "---  ------             --------------  -----  \n",
      " 0   Gender             367 non-null    object \n",
      " 1   Married            367 non-null    object \n",
      " 2   Dependents         367 non-null    object \n",
      " 3   Education          367 non-null    object \n",
      " 4   Self_Employed      367 non-null    object \n",
      " 5   ApplicantIncome    367 non-null    int64  \n",
      " 6   CoapplicantIncome  367 non-null    int64  \n",
      " 7   LoanAmount         367 non-null    float64\n",
      " 8   Loan_Amount_Term   367 non-null    float64\n",
      " 9   Credit_History     367 non-null    float64\n",
      " 10  Rural              367 non-null    uint8  \n",
      " 11  Urban              367 non-null    uint8  \n",
      "dtypes: float64(3), int64(2), object(5), uint8(2)\n",
      "memory usage: 29.5+ KB\n",
      "None\n"
     ]
    }
   ],
   "source": [
    "loan_test = pd.concat([loan_test,pd.get_dummies(loan_test['Property_Area'])], axis=1) \n",
    "loan_test.drop(['Loan_ID','Semiurban','Property_Area'],axis = 1,inplace = True)\n",
    "print(loan_test.head())\n",
    "print(loan_test.info())"
   ]
  },
  {
   "cell_type": "code",
   "execution_count": 25,
   "id": "2c7ebba2",
   "metadata": {},
   "outputs": [
    {
     "data": {
      "text/plain": [
       "Gender               float64\n",
       "Married                int64\n",
       "Dependents           float64\n",
       "Education              int64\n",
       "Self_Employed        float64\n",
       "ApplicantIncome        int64\n",
       "CoapplicantIncome      int64\n",
       "LoanAmount           float64\n",
       "Loan_Amount_Term     float64\n",
       "Credit_History       float64\n",
       "Rural                  uint8\n",
       "Urban                  uint8\n",
       "dtype: object"
      ]
     },
     "execution_count": 25,
     "metadata": {},
     "output_type": "execute_result"
    }
   ],
   "source": [
    "loan_test['Gender'].replace(to_replace=['Male','Female'], value=[0,1],inplace=True) \n",
    "loan_test['Education'].replace(to_replace=['Graduate','Not Graduate'], value = [0,1], inplace = True)\n",
    "loan_test['Self_Employed'].replace(to_replace=['Yes','No'], value=[0,1],inplace=True) \n",
    "loan_test['Married'].replace(to_replace=['Yes','No'], value=[0,1],inplace=True)\n",
    "loan_test['Dependents'].replace(to_replace=['3+'], value = [3], inplace = True)\n",
    "loan_test['Dependents'] = loan_test['Dependents'].astype(float)\n",
    "loan_test.dtypes"
   ]
  },
  {
   "cell_type": "code",
   "execution_count": 26,
   "id": "1dcafc0a",
   "metadata": {},
   "outputs": [],
   "source": [
    "scaled_loan_test = scale_data(loan_test)"
   ]
  },
  {
   "cell_type": "code",
   "execution_count": 30,
   "id": "f5a8cff7",
   "metadata": {},
   "outputs": [
    {
     "data": {
      "text/html": [
       "<div>\n",
       "<style scoped>\n",
       "    .dataframe tbody tr th:only-of-type {\n",
       "        vertical-align: middle;\n",
       "    }\n",
       "\n",
       "    .dataframe tbody tr th {\n",
       "        vertical-align: top;\n",
       "    }\n",
       "\n",
       "    .dataframe thead th {\n",
       "        text-align: right;\n",
       "    }\n",
       "</style>\n",
       "<table border=\"1\" class=\"dataframe\">\n",
       "  <thead>\n",
       "    <tr style=\"text-align: right;\">\n",
       "      <th></th>\n",
       "      <th>Loan_ID</th>\n",
       "      <th>Gender</th>\n",
       "      <th>Married</th>\n",
       "      <th>Dependents</th>\n",
       "      <th>Education</th>\n",
       "      <th>Self_Employed</th>\n",
       "      <th>ApplicantIncome</th>\n",
       "      <th>CoapplicantIncome</th>\n",
       "      <th>LoanAmount</th>\n",
       "      <th>Loan_Amount_Term</th>\n",
       "      <th>Credit_History</th>\n",
       "      <th>Property_Area</th>\n",
       "      <th>Loan_Status</th>\n",
       "    </tr>\n",
       "  </thead>\n",
       "  <tbody>\n",
       "    <tr>\n",
       "      <th>0</th>\n",
       "      <td>LP001015</td>\n",
       "      <td>Male</td>\n",
       "      <td>Yes</td>\n",
       "      <td>0</td>\n",
       "      <td>Graduate</td>\n",
       "      <td>No</td>\n",
       "      <td>5720</td>\n",
       "      <td>0</td>\n",
       "      <td>110.0</td>\n",
       "      <td>360.0</td>\n",
       "      <td>1.0</td>\n",
       "      <td>Urban</td>\n",
       "      <td>Y</td>\n",
       "    </tr>\n",
       "    <tr>\n",
       "      <th>1</th>\n",
       "      <td>LP001022</td>\n",
       "      <td>Male</td>\n",
       "      <td>Yes</td>\n",
       "      <td>1</td>\n",
       "      <td>Graduate</td>\n",
       "      <td>No</td>\n",
       "      <td>3076</td>\n",
       "      <td>1500</td>\n",
       "      <td>126.0</td>\n",
       "      <td>360.0</td>\n",
       "      <td>1.0</td>\n",
       "      <td>Urban</td>\n",
       "      <td>Y</td>\n",
       "    </tr>\n",
       "    <tr>\n",
       "      <th>2</th>\n",
       "      <td>LP001031</td>\n",
       "      <td>Male</td>\n",
       "      <td>Yes</td>\n",
       "      <td>2</td>\n",
       "      <td>Graduate</td>\n",
       "      <td>No</td>\n",
       "      <td>5000</td>\n",
       "      <td>1800</td>\n",
       "      <td>208.0</td>\n",
       "      <td>360.0</td>\n",
       "      <td>1.0</td>\n",
       "      <td>Urban</td>\n",
       "      <td>Y</td>\n",
       "    </tr>\n",
       "    <tr>\n",
       "      <th>3</th>\n",
       "      <td>LP001035</td>\n",
       "      <td>Male</td>\n",
       "      <td>Yes</td>\n",
       "      <td>2</td>\n",
       "      <td>Graduate</td>\n",
       "      <td>No</td>\n",
       "      <td>2340</td>\n",
       "      <td>2546</td>\n",
       "      <td>100.0</td>\n",
       "      <td>360.0</td>\n",
       "      <td>NaN</td>\n",
       "      <td>Urban</td>\n",
       "      <td>Y</td>\n",
       "    </tr>\n",
       "    <tr>\n",
       "      <th>4</th>\n",
       "      <td>LP001051</td>\n",
       "      <td>Male</td>\n",
       "      <td>No</td>\n",
       "      <td>0</td>\n",
       "      <td>Not Graduate</td>\n",
       "      <td>No</td>\n",
       "      <td>3276</td>\n",
       "      <td>0</td>\n",
       "      <td>78.0</td>\n",
       "      <td>360.0</td>\n",
       "      <td>1.0</td>\n",
       "      <td>Urban</td>\n",
       "      <td>Y</td>\n",
       "    </tr>\n",
       "  </tbody>\n",
       "</table>\n",
       "</div>"
      ],
      "text/plain": [
       "    Loan_ID Gender Married Dependents     Education Self_Employed  \\\n",
       "0  LP001015   Male     Yes          0      Graduate            No   \n",
       "1  LP001022   Male     Yes          1      Graduate            No   \n",
       "2  LP001031   Male     Yes          2      Graduate            No   \n",
       "3  LP001035   Male     Yes          2      Graduate            No   \n",
       "4  LP001051   Male      No          0  Not Graduate            No   \n",
       "\n",
       "   ApplicantIncome  CoapplicantIncome  LoanAmount  Loan_Amount_Term  \\\n",
       "0             5720                  0       110.0             360.0   \n",
       "1             3076               1500       126.0             360.0   \n",
       "2             5000               1800       208.0             360.0   \n",
       "3             2340               2546       100.0             360.0   \n",
       "4             3276                  0        78.0             360.0   \n",
       "\n",
       "   Credit_History Property_Area Loan_Status  \n",
       "0             1.0         Urban           Y  \n",
       "1             1.0         Urban           Y  \n",
       "2             1.0         Urban           Y  \n",
       "3             NaN         Urban           Y  \n",
       "4             1.0         Urban           Y  "
      ]
     },
     "execution_count": 30,
     "metadata": {},
     "output_type": "execute_result"
    }
   ],
   "source": [
    "# RFC_pred = RFC.fit(X_train, y_train)\n",
    "# test_pred=RFC_pred.predict(scaled_loan_test) \n",
    "# Test_file = Test_file.assign(Loan_Status = test_pred)\n",
    "# Test_file.head()"
   ]
  },
  {
   "cell_type": "code",
   "execution_count": 34,
   "id": "1d0a5142",
   "metadata": {},
   "outputs": [
    {
     "data": {
      "text/html": [
       "<div>\n",
       "<style scoped>\n",
       "    .dataframe tbody tr th:only-of-type {\n",
       "        vertical-align: middle;\n",
       "    }\n",
       "\n",
       "    .dataframe tbody tr th {\n",
       "        vertical-align: top;\n",
       "    }\n",
       "\n",
       "    .dataframe thead th {\n",
       "        text-align: right;\n",
       "    }\n",
       "</style>\n",
       "<table border=\"1\" class=\"dataframe\">\n",
       "  <thead>\n",
       "    <tr style=\"text-align: right;\">\n",
       "      <th></th>\n",
       "      <th>Loan_ID</th>\n",
       "      <th>Gender</th>\n",
       "      <th>Married</th>\n",
       "      <th>Dependents</th>\n",
       "      <th>Education</th>\n",
       "      <th>Self_Employed</th>\n",
       "      <th>ApplicantIncome</th>\n",
       "      <th>CoapplicantIncome</th>\n",
       "      <th>LoanAmount</th>\n",
       "      <th>Loan_Amount_Term</th>\n",
       "      <th>Credit_History</th>\n",
       "      <th>Property_Area</th>\n",
       "      <th>Loan_Status</th>\n",
       "    </tr>\n",
       "  </thead>\n",
       "  <tbody>\n",
       "    <tr>\n",
       "      <th>0</th>\n",
       "      <td>LP001015</td>\n",
       "      <td>Male</td>\n",
       "      <td>Yes</td>\n",
       "      <td>0</td>\n",
       "      <td>Graduate</td>\n",
       "      <td>No</td>\n",
       "      <td>5720</td>\n",
       "      <td>0</td>\n",
       "      <td>110.0</td>\n",
       "      <td>360.0</td>\n",
       "      <td>1.0</td>\n",
       "      <td>Urban</td>\n",
       "      <td>Y</td>\n",
       "    </tr>\n",
       "    <tr>\n",
       "      <th>1</th>\n",
       "      <td>LP001022</td>\n",
       "      <td>Male</td>\n",
       "      <td>Yes</td>\n",
       "      <td>1</td>\n",
       "      <td>Graduate</td>\n",
       "      <td>No</td>\n",
       "      <td>3076</td>\n",
       "      <td>1500</td>\n",
       "      <td>126.0</td>\n",
       "      <td>360.0</td>\n",
       "      <td>1.0</td>\n",
       "      <td>Urban</td>\n",
       "      <td>Y</td>\n",
       "    </tr>\n",
       "    <tr>\n",
       "      <th>2</th>\n",
       "      <td>LP001031</td>\n",
       "      <td>Male</td>\n",
       "      <td>Yes</td>\n",
       "      <td>2</td>\n",
       "      <td>Graduate</td>\n",
       "      <td>No</td>\n",
       "      <td>5000</td>\n",
       "      <td>1800</td>\n",
       "      <td>208.0</td>\n",
       "      <td>360.0</td>\n",
       "      <td>1.0</td>\n",
       "      <td>Urban</td>\n",
       "      <td>Y</td>\n",
       "    </tr>\n",
       "    <tr>\n",
       "      <th>3</th>\n",
       "      <td>LP001035</td>\n",
       "      <td>Male</td>\n",
       "      <td>Yes</td>\n",
       "      <td>2</td>\n",
       "      <td>Graduate</td>\n",
       "      <td>No</td>\n",
       "      <td>2340</td>\n",
       "      <td>2546</td>\n",
       "      <td>100.0</td>\n",
       "      <td>360.0</td>\n",
       "      <td>NaN</td>\n",
       "      <td>Urban</td>\n",
       "      <td>Y</td>\n",
       "    </tr>\n",
       "    <tr>\n",
       "      <th>4</th>\n",
       "      <td>LP001051</td>\n",
       "      <td>Male</td>\n",
       "      <td>No</td>\n",
       "      <td>0</td>\n",
       "      <td>Not Graduate</td>\n",
       "      <td>No</td>\n",
       "      <td>3276</td>\n",
       "      <td>0</td>\n",
       "      <td>78.0</td>\n",
       "      <td>360.0</td>\n",
       "      <td>1.0</td>\n",
       "      <td>Urban</td>\n",
       "      <td>Y</td>\n",
       "    </tr>\n",
       "  </tbody>\n",
       "</table>\n",
       "</div>"
      ],
      "text/plain": [
       "    Loan_ID Gender Married Dependents     Education Self_Employed  \\\n",
       "0  LP001015   Male     Yes          0      Graduate            No   \n",
       "1  LP001022   Male     Yes          1      Graduate            No   \n",
       "2  LP001031   Male     Yes          2      Graduate            No   \n",
       "3  LP001035   Male     Yes          2      Graduate            No   \n",
       "4  LP001051   Male      No          0  Not Graduate            No   \n",
       "\n",
       "   ApplicantIncome  CoapplicantIncome  LoanAmount  Loan_Amount_Term  \\\n",
       "0             5720                  0       110.0             360.0   \n",
       "1             3076               1500       126.0             360.0   \n",
       "2             5000               1800       208.0             360.0   \n",
       "3             2340               2546       100.0             360.0   \n",
       "4             3276                  0        78.0             360.0   \n",
       "\n",
       "   Credit_History Property_Area Loan_Status  \n",
       "0             1.0         Urban           Y  \n",
       "1             1.0         Urban           Y  \n",
       "2             1.0         Urban           Y  \n",
       "3             NaN         Urban           Y  \n",
       "4             1.0         Urban           Y  "
      ]
     },
     "execution_count": 34,
     "metadata": {},
     "output_type": "execute_result"
    }
   ],
   "source": [
    "KNN7 = KNeighborsClassifier(n_neighbors = 7)\n",
    "KNN7 = KNN.fit(X_train, y_train)\n",
    "test_pred = KNN5.predict(scaled_loan_test)\n",
    "Test_file = Test_file.assign(Loan_Status = test_pred)\n",
    "Test_file.head()"
   ]
  },
  {
   "cell_type": "code",
   "execution_count": 35,
   "id": "a122d2ef",
   "metadata": {},
   "outputs": [],
   "source": [
    "submission = Test_file[['Loan_ID', 'Loan_Status']]\n",
    "submission.head()\n",
    "submission.to_csv('submission_KNN5_CV.csv', index=False)"
   ]
  }
 ],
 "metadata": {
  "kernelspec": {
   "display_name": "Python 3",
   "language": "python",
   "name": "python3"
  },
  "language_info": {
   "codemirror_mode": {
    "name": "ipython",
    "version": 3
   },
   "file_extension": ".py",
   "mimetype": "text/x-python",
   "name": "python",
   "nbconvert_exporter": "python",
   "pygments_lexer": "ipython3",
   "version": "3.8.8"
  }
 },
 "nbformat": 4,
 "nbformat_minor": 5
}
